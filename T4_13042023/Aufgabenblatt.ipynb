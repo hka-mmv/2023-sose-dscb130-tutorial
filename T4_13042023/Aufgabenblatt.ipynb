{
 "cells": [
  {
   "attachments": {},
   "cell_type": "markdown",
   "metadata": {},
   "source": [
    "### Übungen\n",
    "... von im Tutorium behandelten Konzepten\n"
   ]
  },
  {
   "attachments": {},
   "cell_type": "markdown",
   "metadata": {},
   "source": [
    "\n",
    "### 1. Schreibe ein Programm was die ersten n Zeichen von einem Input-String entfernt"
   ]
  },
  {
   "cell_type": "code",
   "execution_count": null,
   "metadata": {},
   "outputs": [],
   "source": [
    "#CODE HERE"
   ]
  },
  {
   "attachments": {},
   "cell_type": "markdown",
   "metadata": {},
   "source": [
    "<details>\n",
    "    <summary>Hinweis</summary>\n",
    "    Nochmal zu Erinnerung zu string-slicing: `string[start:stop:step]`\n",
    "</details>"
   ]
  },
  {
   "attachments": {},
   "cell_type": "markdown",
   "metadata": {},
   "source": [
    "### 2. Prüfe ob das erste und das letzte Zeichen eines Strings übereinstimmen"
   ]
  },
  {
   "cell_type": "code",
   "execution_count": null,
   "metadata": {},
   "outputs": [],
   "source": [
    "#CODE HERE\n"
   ]
  },
  {
   "attachments": {},
   "cell_type": "markdown",
   "metadata": {},
   "source": [
    "<details>\n",
    "    <summary>Hinweis</summary>\n",
    "mit `string[-1]` greift man auf das letzte Element zu</details>\n"
   ]
  },
  {
   "attachments": {},
   "cell_type": "markdown",
   "metadata": {},
   "source": [
    "### 3. Prüfe ob eine Zahl gerade ist"
   ]
  },
  {
   "cell_type": "code",
   "execution_count": null,
   "metadata": {},
   "outputs": [],
   "source": [
    "#CODE HERE\n"
   ]
  },
  {
   "attachments": {},
   "cell_type": "markdown",
   "metadata": {},
   "source": [
    "<details>\n",
    "    <summary>Hinweis</summary>\n",
    "\n",
    "Was macht der Modulo(%) operator nochmal?\n",
    "\n",
    "</details>\n"
   ]
  },
  {
   "attachments": {},
   "cell_type": "markdown",
   "metadata": {},
   "source": [
    "### 4. Schreibe ein Programm, dass einen String als Input nimmt und den auf sein erstes,mittleres und letztes Zeichen reduziert und ausgibt.\n"
   ]
  },
  {
   "attachments": {},
   "cell_type": "markdown",
   "metadata": {},
   "source": [
    "Wenn der String eine gerade Zeichenanzahl hat sollen die beiden mittleren Zeichen anstatt des Einen ausgegeben werden"
   ]
  },
  {
   "cell_type": "code",
   "execution_count": null,
   "metadata": {},
   "outputs": [],
   "source": [
    "#CODE HERE\n"
   ]
  },
  {
   "attachments": {},
   "cell_type": "markdown",
   "metadata": {},
   "source": [
    "<details>\n",
    "    <summary>Hinweis</summary>\n",
    "\n",
    "Es gibt eine Python Funktion die die Länge eines Strings oder Liste ausgibt -> len(string)\n",
    "</details>\n",
    "\n"
   ]
  },
  {
   "attachments": {},
   "cell_type": "markdown",
   "metadata": {},
   "source": [
    "### 5. Zählt alle Zeichen, Zahlen und Symbole eines Strings"
   ]
  },
  {
   "cell_type": "code",
   "execution_count": null,
   "metadata": {},
   "outputs": [],
   "source": [
    "#CODE HERE\n"
   ]
  },
  {
   "attachments": {},
   "cell_type": "markdown",
   "metadata": {},
   "source": [
    "<details>\n",
    "    <summary>Hinweis</summary>\n",
    "\n",
    "Python bietet hier wieder sehr nützliche eingebaute Funktionen.\n",
    "Sagen wir c ist ein str-element, dann kann man mit... <br>\n",
    "`c.isalpha()` prüfen ob c ein Zeichen ist.<br>\n",
    "`c.isdigit()` prüfen ob c eine Zahl ist.\n",
    "\n",
    "Außerdem brauchen wir hier eine Schleife :)\n",
    "</details>\n",
    "\n",
    "\n",
    "\n"
   ]
  },
  {
   "attachments": {},
   "cell_type": "markdown",
   "metadata": {},
   "source": [
    "### 6. String in Wörter aufteilen und jedes Wort als einzelne Zeile ausgeben"
   ]
  },
  {
   "cell_type": "code",
   "execution_count": null,
   "metadata": {},
   "outputs": [],
   "source": [
    "#CODE HERE"
   ]
  },
  {
   "attachments": {},
   "cell_type": "markdown",
   "metadata": {},
   "source": [
    "<details>\n",
    "    <summary>Hinweis</summary>\n",
    "\n",
    "Hier brauchen wir die Python Funktion `split()` welche auf strings angewendet werden kann und wieder eine Schleife :)\n",
    "</details>\n",
    "\n",
    "\n",
    "\n",
    "\n"
   ]
  }
 ],
 "metadata": {
  "kernelspec": {
   "display_name": "base",
   "language": "python",
   "name": "python3"
  },
  "language_info": {
   "codemirror_mode": {
    "name": "ipython",
    "version": 3
   },
   "file_extension": ".py",
   "mimetype": "text/x-python",
   "name": "python",
   "nbconvert_exporter": "python",
   "pygments_lexer": "ipython3",
   "version": "3.9.13"
  },
  "orig_nbformat": 4,
  "vscode": {
   "interpreter": {
    "hash": "f88fa80fe6eafa9852e0ecf90ee13e19f056320452cc8499fe362069825ad96d"
   }
  }
 },
 "nbformat": 4,
 "nbformat_minor": 2
}
