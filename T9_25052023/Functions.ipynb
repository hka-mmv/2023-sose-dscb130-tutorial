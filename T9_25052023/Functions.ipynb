{
 "cells": [
  {
   "attachments": {},
   "cell_type": "markdown",
   "id": "910e0e52",
   "metadata": {},
   "source": [
    "# Functions"
   ]
  },
  {
   "attachments": {},
   "cell_type": "markdown",
   "id": "11802015",
   "metadata": {},
   "source": [
    "Eine Funktion (englisch function) ist in der Informatik und in verschiedenen höheren Programmiersprachen die Bezeichnung eines Programmkonstrukts, mit dem der Programm-Quellcode strukturiert werden kann, so dass Teile der Funktionalität des Programms wiederverwendbar sind. <a href=\"https://de.wikipedia.org/wiki/Funktion_(Programmierung)\">Quelle </a>"
   ]
  },
  {
   "attachments": {},
   "cell_type": "markdown",
   "id": "93e3f933",
   "metadata": {},
   "source": [
    "Du hast bereits einige Funtionen genutzt wie z.B. `print()` oder `isnumeric()`. Eine Funktion ist kurz gesagt ein Codeblock der aufgerufen werden kann. In Python gibt es schon einige built-in Funktionen. Sinnvoll ist es aber eigene Funktionen für individuelle Anwendungsfällt zu definieren."
   ]
  },
  {
   "attachments": {},
   "cell_type": "markdown",
   "id": "4b51223a",
   "metadata": {},
   "source": [
    "## Aufgabe_1"
   ]
  },
  {
   "attachments": {},
   "cell_type": "markdown",
   "id": "4869d81e",
   "metadata": {},
   "source": [
    "Schreibt einen Taschenrechner, verwendet Methoden um die Rechenoperationen auszuführen. Der Taschenrechner soll die 4 Grundrechenarten beherrschen und keine Verzweigungen enthalten. \n",
    "zum Beispiel: 2+3, 5-1, 6/2, ...\n",
    "\n",
    "> Verwendet nicht `eval()`. Ihr sollt einen Taschenrechner selbst schreiben.\n",
    "\n",
    "```python\n",
    "def taschenrechner():\n",
    "    pass\n",
    "```"
   ]
  },
  {
   "cell_type": "code",
   "execution_count": 5,
   "id": "d4ab5f16",
   "metadata": {},
   "outputs": [
    {
     "data": {
      "text/plain": [
       "4"
      ]
     },
     "execution_count": 5,
     "metadata": {},
     "output_type": "execute_result"
    }
   ],
   "source": []
  },
  {
   "attachments": {},
   "cell_type": "markdown",
   "id": "1fc3f9d7",
   "metadata": {},
   "source": [
    "## Aufgabe_2"
   ]
  },
  {
   "attachments": {},
   "cell_type": "markdown",
   "id": "094bb67b",
   "metadata": {},
   "source": [
    "Schreint eine Methode welche die kleinere Zahl zwischen zwei Zahlen zurückgibt.\n",
    "\n",
    "```python\n",
    "def min(a, b):\n",
    "    pass\n",
    "```"
   ]
  },
  {
   "cell_type": "code",
   "execution_count": 6,
   "id": "2c67178d",
   "metadata": {},
   "outputs": [],
   "source": []
  },
  {
   "attachments": {},
   "cell_type": "markdown",
   "id": "520db1e6",
   "metadata": {},
   "source": [
    "## Aufgabe_3"
   ]
  },
  {
   "attachments": {},
   "cell_type": "markdown",
   "id": "cc627562",
   "metadata": {},
   "source": [
    "... nun das Maximum\n",
    "\n",
    "```python\n",
    "def max(a, b):\n",
    "    pass\n",
    "```"
   ]
  },
  {
   "cell_type": "code",
   "execution_count": 7,
   "id": "cf6b7c8d",
   "metadata": {},
   "outputs": [],
   "source": []
  },
  {
   "attachments": {},
   "cell_type": "markdown",
   "id": "5e213331",
   "metadata": {},
   "source": [
    "## Aufgabe_4"
   ]
  },
  {
   "attachments": {},
   "cell_type": "markdown",
   "id": "fd1a4d82",
   "metadata": {},
   "source": [
    "Schreibt eine Methode, welche einen String als Parameter entgegennimmt und die Anzahl der Wörter zurückgibt, welche mit ihrer länge zwischen N und M liegen.\n",
    "\n",
    "```python\n",
    "def extract(input: str, n: int, m: int) -> list:\n",
    "    pass\n",
    "```"
   ]
  },
  {
   "cell_type": "code",
   "execution_count": 18,
   "id": "31962fd7",
   "metadata": {},
   "outputs": [
    {
     "data": {
      "text/plain": [
       "['Foo!']"
      ]
     },
     "execution_count": 18,
     "metadata": {},
     "output_type": "execute_result"
    }
   ],
   "source": []
  },
  {
   "attachments": {},
   "cell_type": "markdown",
   "id": "b8b2a403",
   "metadata": {},
   "source": [
    "## Aufgabe_5"
   ]
  },
  {
   "attachments": {},
   "cell_type": "markdown",
   "id": "fe4da3f5",
   "metadata": {},
   "source": [
    "Schreibt eine Methode welche die Summe aller Zahlen zwischen 0 und N zurückgibt. Verwendet `*args`.\n",
    "\n",
    "Frage an die Fortgeschrittenen, was passiert wenn ihr `*args` zu `*integer` ändert?\n",
    "\n",
    "```python \n",
    "def my_sum(*args):\n",
    "    pass\n",
    "```"
   ]
  },
  {
   "cell_type": "code",
   "execution_count": 30,
   "id": "c2491786",
   "metadata": {},
   "outputs": [
    {
     "name": "stdout",
     "output_type": "stream",
     "text": [
      "*args:  6\n",
      "*integer:  6\n"
     ]
    }
   ],
   "source": []
  },
  {
   "attachments": {},
   "cell_type": "markdown",
   "id": "137ad145",
   "metadata": {},
   "source": [
    "## Aufgabe_6"
   ]
  },
  {
   "attachments": {},
   "cell_type": "markdown",
   "id": "bd477fe9",
   "metadata": {},
   "source": [
    "Konkatentiert mehrere Strings und gibt das Ergebnis zurück. Verwendet `**kwargs`.\n",
    "\n",
    "```python\n",
    "def concatenate(**kwargs):\n",
    "    pass\n",
    "```"
   ]
  },
  {
   "cell_type": "code",
   "execution_count": 34,
   "id": "aeea42d5",
   "metadata": {},
   "outputs": [
    {
     "name": "stdout",
     "output_type": "stream",
     "text": [
      "DSCB130 ist super!\n"
     ]
    }
   ],
   "source": []
  }
 ],
 "metadata": {
  "kernelspec": {
   "display_name": "Python 3 (ipykernel)",
   "language": "python",
   "name": "python3"
  },
  "language_info": {
   "codemirror_mode": {
    "name": "ipython",
    "version": 3
   },
   "file_extension": ".py",
   "mimetype": "text/x-python",
   "name": "python",
   "nbconvert_exporter": "python",
   "pygments_lexer": "ipython3",
   "version": "3.11.3"
  },
  "vscode": {
   "interpreter": {
    "hash": "916dbcbb3f70747c44a77c7bcd40155683ae19c65e1c03b4aa3499c5328201f1"
   }
  }
 },
 "nbformat": 4,
 "nbformat_minor": 5
}
