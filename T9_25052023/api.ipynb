{
 "cells": [
  {
   "attachments": {},
   "cell_type": "markdown",
   "metadata": {},
   "source": [
    "## API\n"
   ]
  },
  {
   "attachments": {},
   "cell_type": "markdown",
   "metadata": {},
   "source": [
    "Eine API ist eine Programmierschnittstelle(Application Programming Interface).\n",
    "\n",
    "Durch eine API können wir Zugriff auf Daten von einem fremden System erhalten. Oft steht uns leider keine API zur Verfügung, aber wenn sie da ist, können wir viel schneller von der Datensammlung zum analysieren übergehen.\n",
    "\n",
    "Wir werden jetzt den Umgang mit APIs am Beispiel von der Guardian API (die gleiche wie bei der Hausarbeit) kennenlernen.\n",
    "\n",
    "Hier sind die Daten im JSON Format, in Python ist das vergleichbar mit einem Dictionary"
   ]
  },
  {
   "cell_type": "code",
   "execution_count": 4,
   "metadata": {},
   "outputs": [],
   "source": [
    "import json\n",
    "import requests\n",
    "import datetime"
   ]
  },
  {
   "cell_type": "code",
   "execution_count": 3,
   "metadata": {},
   "outputs": [],
   "source": [
    "# api key zum Zugriff auf API\n",
    "api_key = 'test'\n",
    "# url kann angepasst werden\n",
    "# hier werden artikel mit dem schlagwort debatte gesucht\n",
    "url  =  f'https://content.guardianapis.com/search?q=debateformat=json&show-tags=all&show-blocks=all&api-key={api_key}'\n"
   ]
  },
  {
   "attachments": {},
   "cell_type": "markdown",
   "metadata": {},
   "source": [
    "### 1.1\n",
    "\n",
    "findet heraus wir ihr mit den importierten modulen zugriff auf die API Daten bekommt.\n",
    "\n",
    "Typische Arbeitsschritte sind im Code kommentiert\n"
   ]
  },
  {
   "cell_type": "code",
   "execution_count": null,
   "metadata": {},
   "outputs": [],
   "source": [
    "# Schritt 1 : Anfrage erstellen(requests modul!)\n",
    "\n",
    "# Schritt 2 : Antwort anschauen, Struktur nachvollziehen\n",
    "# (im Browser, es empfiehlt sich eine json formatter google extension zu installieren)\n",
    "# (oder ein online formatter zu benutzen)\n",
    "\n",
    "# Schritt 3: json in dict umwandeln (json modul!)"
   ]
  },
  {
   "attachments": {},
   "cell_type": "markdown",
   "metadata": {},
   "source": [
    "### 1.2\n",
    "\n",
    "Sucht euch einen Artikel aus, extrahiert den Titel und Text vom Artikel und speichert die in Variablen."
   ]
  },
  {
   "cell_type": "code",
   "execution_count": 5,
   "metadata": {},
   "outputs": [],
   "source": [
    "# CODE HERE\n",
    "# denkt an die Dictionary Value-Zugriffe"
   ]
  },
  {
   "attachments": {},
   "cell_type": "markdown",
   "metadata": {},
   "source": [
    "### 2.1\n",
    "Schreibt eine Funktion die die Wörter in einem Text zählt und ein Dictionary mit dem Wort als Key und der relativen Häufigkeit(!) als Value zurückgibt.\n",
    "\n",
    "Welches ist das am meisten vorkommende Wort?"
   ]
  },
  {
   "cell_type": "code",
   "execution_count": 7,
   "metadata": {},
   "outputs": [],
   "source": [
    "# CODE HERE\n",
    "def count_words(text: str = 'Hallo Welt'):\n",
    "    pass"
   ]
  },
  {
   "attachments": {},
   "cell_type": "markdown",
   "metadata": {},
   "source": [
    "### 2.2\n",
    "\n",
    "Wer hat an deinem ausgesuchtem Artikel alles mitgeschrieben?\n",
    "Schreibe ein Programm was die Autorennamen und weitere Informationen über sie ausgibt. Achte darauf dass keine Tags (die zeichen zwischen den Pfeilen) in dem Informationstext verbleiben."
   ]
  },
  {
   "cell_type": "code",
   "execution_count": 8,
   "metadata": {},
   "outputs": [],
   "source": [
    "# CODE HERE"
   ]
  },
  {
   "attachments": {},
   "cell_type": "markdown",
   "metadata": {},
   "source": [
    "### 2.3 \n",
    "\n",
    "Es gibt in der json response drei interessante Keys, 'firstPublishedDate', 'publishedDate', 'lastmodifiedDate'.\n",
    "\n",
    "Mit dem Modul datetime können wir unter anderem Zeitdifferenzen berechnen, geht auch ohne aber ist leichter mit datetime.\n",
    "Schau dir mal die Methode timedelta() an. (Dokumentation)\n",
    "\n",
    "Gibt es bei deinem Artikel Unterschiede zwischen den Zeiten?\n",
    "wie groß sind diese?\n",
    "Schreibe für die Berechnung ein Programm. "
   ]
  },
  {
   "cell_type": "code",
   "execution_count": 9,
   "metadata": {},
   "outputs": [],
   "source": [
    "#CODE HERE"
   ]
  }
 ],
 "metadata": {
  "kernelspec": {
   "display_name": "Python 3",
   "language": "python",
   "name": "python3"
  },
  "language_info": {
   "codemirror_mode": {
    "name": "ipython",
    "version": 3
   },
   "file_extension": ".py",
   "mimetype": "text/x-python",
   "name": "python",
   "nbconvert_exporter": "python",
   "pygments_lexer": "ipython3",
   "version": "3.10.6"
  },
  "orig_nbformat": 4,
  "vscode": {
   "interpreter": {
    "hash": "916dbcbb3f70747c44a77c7bcd40155683ae19c65e1c03b4aa3499c5328201f1"
   }
  }
 },
 "nbformat": 4,
 "nbformat_minor": 2
}
