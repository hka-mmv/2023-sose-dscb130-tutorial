{
 "cells": [
  {
   "cell_type": "markdown",
   "id": "210c3ffb",
   "metadata": {},
   "source": [
    "### Übungen\n",
    "... von im Tutorium behandelten Konzepten\n"
   ]
  },
  {
   "cell_type": "markdown",
   "id": "31d81b5b",
   "metadata": {},
   "source": [
    "\n",
    "### 1. Schreibe ein Programm welches 5 mal \"Hello World\" ausgiebt. Ohne zu Googeln!"
   ]
  },
  {
   "cell_type": "code",
   "execution_count": null,
   "id": "c5e0f55d",
   "metadata": {},
   "outputs": [],
   "source": [
    "#CODE HERE"
   ]
  },
  {
   "cell_type": "markdown",
   "id": "b2bcaa10",
   "metadata": {},
   "source": [
    "<details>\n",
    "    <summary>Hinweis</summary>\n",
    "    Schreibe das Statement mehrmals hintereinander\n",
    "</details>"
   ]
  },
  {
   "cell_type": "markdown",
   "id": "62e77aa4",
   "metadata": {},
   "source": [
    "### 2. Schreibe ein Programm welches \"Hello World\" 500x ausgiebt. "
   ]
  },
  {
   "cell_type": "code",
   "execution_count": null,
   "id": "331b6954",
   "metadata": {},
   "outputs": [],
   "source": [
    "#CODE HERE\n"
   ]
  },
  {
   "cell_type": "markdown",
   "id": "c295df62",
   "metadata": {},
   "source": [
    "<details>\n",
    "    <summary>Hinweis</summary>\n",
    "Mit dem For Schlüsselwort könnt ihr Code mehrmals ausführen.\n"
   ]
  },
  {
   "cell_type": "markdown",
   "id": "bca1a9b7",
   "metadata": {},
   "source": [
    "### 3. Gebe alle Zahlen aus zwischen 0 und 100, welche Gerade sind. "
   ]
  },
  {
   "cell_type": "code",
   "execution_count": null,
   "id": "a2903ba4",
   "metadata": {},
   "outputs": [],
   "source": [
    "#CODE HERE"
   ]
  },
  {
   "cell_type": "markdown",
   "id": "355aa7aa",
   "metadata": {},
   "source": [
    "<details>\n",
    "    <summary>Hinweis</summary>\n",
    "\n",
    "Was macht der Modulo(%) operator nochmal? <br> Haben wir das nicht so ähnlich letztes Tutorium gemacht?\n",
    "\n",
    "</details>\n"
   ]
  },
  {
   "cell_type": "markdown",
   "id": "cae6e6d8",
   "metadata": {},
   "source": [
    "### 4. Schreibt eine Programm welches die Fakultät einer Zahl errechnet. Benutzt die For-Schleife.\n"
   ]
  },
  {
   "cell_type": "markdown",
   "id": "d7d3b054",
   "metadata": {},
   "source": [
    "Wenn der String eine gerade Zeichenanzahl hat sollen die beiden mittleren Zeichen anstatt des Einen ausgegeben werden"
   ]
  },
  {
   "cell_type": "code",
   "execution_count": null,
   "id": "82fd55de",
   "metadata": {},
   "outputs": [],
   "source": [
    "#CODE HERE\n"
   ]
  },
  {
   "cell_type": "markdown",
   "id": "f97fa8aa",
   "metadata": {},
   "source": [
    "<details>\n",
    "    <summary>Hinweis</summary>\n",
    "\n",
    "https://de.wikipedia.org/wiki/Fakultät_(Mathematik)\n",
    "</details>\n",
    "\n"
   ]
  },
  {
   "cell_type": "markdown",
   "id": "4a7f219d",
   "metadata": {},
   "source": [
    "### 5. Schreibt eine Programm welches die Fakultät einer Zahl errechnet. Benutzt die While-Schleife."
   ]
  },
  {
   "cell_type": "code",
   "execution_count": 2,
   "id": "1d7fb5d4",
   "metadata": {},
   "outputs": [],
   "source": [
    "#CODE HERE"
   ]
  },
  {
   "cell_type": "markdown",
   "id": "664cf6c1",
   "metadata": {},
   "source": [
    "<details>\n",
    "    <summary>Hinweis</summary>\n",
    "\n",
    "https://de.wikipedia.org/wiki/Fakultät_(Mathematik)</details>\n",
    "\n",
    "\n",
    "\n"
   ]
  },
  {
   "cell_type": "markdown",
   "id": "113451fe",
   "metadata": {},
   "source": [
    "### 6. Wenn ihr Aufgabe 4 und 5 vergleicht. Was ist der Unterschied zwischen einer For und While Schleife?"
   ]
  },
  {
   "cell_type": "code",
   "execution_count": null,
   "id": "9d716cda",
   "metadata": {},
   "outputs": [],
   "source": [
    "#ANSWER HERE"
   ]
  },
  {
   "cell_type": "markdown",
   "id": "37f7f9f5",
   "metadata": {},
   "source": [
    "### 7. Errechne alle Primzahlen zwischen 0 und 25."
   ]
  },
  {
   "cell_type": "code",
   "execution_count": 1,
   "id": "e2bb34dd",
   "metadata": {},
   "outputs": [],
   "source": [
    "#CODE HERE"
   ]
  },
  {
   "cell_type": "markdown",
   "id": "71d34cbf",
   "metadata": {},
   "source": [
    "<details>\n",
    "    <summary>Hinweis</summary>\n",
    "\n",
    "https://de.wikipedia.org/wiki/Primzahl\n",
    "\n",
    "</details>"
   ]
  },
  {
   "cell_type": "code",
   "execution_count": null,
   "id": "2a3a8690",
   "metadata": {},
   "outputs": [],
   "source": []
  }
 ],
 "metadata": {
  "kernelspec": {
   "display_name": "Python 3 (ipykernel)",
   "language": "python",
   "name": "python3"
  },
  "language_info": {
   "codemirror_mode": {
    "name": "ipython",
    "version": 3
   },
   "file_extension": ".py",
   "mimetype": "text/x-python",
   "name": "python",
   "nbconvert_exporter": "python",
   "pygments_lexer": "ipython3",
   "version": "3.11.3"
  }
 },
 "nbformat": 4,
 "nbformat_minor": 5
}
