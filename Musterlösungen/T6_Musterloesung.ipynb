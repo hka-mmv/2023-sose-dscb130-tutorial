{
 "cells": [
  {
   "cell_type": "markdown",
   "id": "210c3ffb",
   "metadata": {},
   "source": [
    "### Übungen\n",
    "... von im Tutorium behandelten Konzepten\n"
   ]
  },
  {
   "attachments": {},
   "cell_type": "markdown",
   "id": "31d81b5b",
   "metadata": {},
   "source": [
    "### 1. Schreibe ein Programm, das die ersten 20 Zahlen der Fibonacci-Sequenz ausgibt."
   ]
  },
  {
   "cell_type": "code",
   "execution_count": 4,
   "id": "c5e0f55d",
   "metadata": {},
   "outputs": [
    {
     "name": "stdout",
     "output_type": "stream",
     "text": [
      "0 1 1 2 3 5 8 13 21 34 55 89 144 233 377 610 987 1597 2584 4181 "
     ]
    }
   ],
   "source": [
    "a, b = 0, 1\n",
    "\n",
    "for i in range(20):\n",
    "    print(a, end=\" \")\n",
    "    a, b = b, a + b"
   ]
  },
  {
   "attachments": {},
   "cell_type": "markdown",
   "id": "62e77aa4",
   "metadata": {},
   "source": [
    "### 2. Schreibe ein Programm, das eine Liste von Wörtern entgegennimmt und die Häufigkeit jedes Wortes in der Liste zählt. Verwende dabei eine for-Schleife, if-else-Anweisungen und ein Dictionary. Gib die Wörter und ihre Häufigkeit in absteigender Reihenfolge der Häufigkeit aus."
   ]
  },
  {
   "cell_type": "code",
   "execution_count": 4,
   "id": "331b6954",
   "metadata": {},
   "outputs": [
    {
     "name": "stdout",
     "output_type": "stream",
     "text": [
      "apple: 4\n",
      "banana: 2\n",
      "orange: 2\n"
     ]
    }
   ],
   "source": [
    "words = [\"apple\", \"banana\", \"orange\", \"apple\", \"banana\", \"apple\", \"orange\", \"apple\"]\n",
    "\n",
    "word_freq = {}\n",
    "\n",
    "for word in words:\n",
    "    if word in word_freq:\n",
    "        word_freq[word] += 1\n",
    "    else:\n",
    "        word_freq[word] = 1\n",
    "\n",
    "sorted_word_freq = sorted(word_freq.items())\n",
    "\n",
    "for word, freq in sorted_word_freq:\n",
    "    print(f\"{word}: {freq}\")\n"
   ]
  },
  {
   "attachments": {},
   "cell_type": "markdown",
   "id": "bca1a9b7",
   "metadata": {},
   "source": [
    "### 3. Gegeben sei eine Liste von Messwerten (z.B. Temperaturen, Luftdruck, etc.). Verwende eine for-Schleife und if-else-Anweisungen, um den Durchschnitt der Messwerte zu berechnen, die größer als ein bestimmter Schwellenwert sind."
   ]
  },
  {
   "cell_type": "code",
   "execution_count": 5,
   "id": "a2903ba4",
   "metadata": {},
   "outputs": [
    {
     "name": "stdout",
     "output_type": "stream",
     "text": [
      "Durchschnitt der Messwerte über dem Schwellenwert: 63.5\n"
     ]
    }
   ],
   "source": [
    "messwerte = [23, 45, 67, 34, 29, 89, 55, 12, 76, 49]\n",
    "schwellenwert = 40\n",
    "\n",
    "summe = 0\n",
    "zaehler = 0\n",
    "\n",
    "for messwert in messwerte:\n",
    "    if messwert > schwellenwert:\n",
    "        summe += messwert\n",
    "        zaehler += 1\n",
    "\n",
    "if zaehler > 0:\n",
    "    durchschnitt = summe / zaehler\n",
    "    print(\"Durchschnitt der Messwerte über dem Schwellenwert:\", durchschnitt)\n",
    "else:\n",
    "    print(\"Keine Messwerte über dem Schwellenwert.\")\n"
   ]
  },
  {
   "attachments": {},
   "cell_type": "markdown",
   "id": "cae6e6d8",
   "metadata": {},
   "source": [
    "### 4. Schreiben Sie ein Programm, welches folgende Liste von Wörter besitzt. Das Programm soll die Wortlänge jedes Wortes in der Liste berechnen und zählen wie viele unter 5, genau 5 und größer als 5 sind. "
   ]
  },
  {
   "cell_type": "code",
   "execution_count": 6,
   "id": "82fd55de",
   "metadata": {},
   "outputs": [
    {
     "name": "stdout",
     "output_type": "stream",
     "text": [
      "Weniger als 5 Buchstaben: 4\n",
      "Genau 5 Buchstaben: 4\n",
      "Mehr als 5 Buchstaben: 2\n"
     ]
    }
   ],
   "source": [
    "woerter = [\"Haus\", \"Auto\", \"Tisch\", \"Stuhl\", \"Garten\", \"Fenster\", \"Boden\", \"Baum\", \"Blume\", \"Wand\"]\n",
    "\n",
    "weniger_als_5 = 0\n",
    "genau_5 = 0\n",
    "mehr_als_5 = 0\n",
    "\n",
    "for wort in woerter:\n",
    "    if len(wort) < 5:\n",
    "        weniger_als_5 += 1\n",
    "    elif len(wort) == 5:\n",
    "        genau_5 += 1\n",
    "    else:\n",
    "        mehr_als_5 += 1\n",
    "\n",
    "print(f\"Weniger als 5 Buchstaben: {weniger_als_5}\")\n",
    "print(f\"Genau 5 Buchstaben: {genau_5}\")\n",
    "print(f\"Mehr als 5 Buchstaben: {mehr_als_5}\")"
   ]
  },
  {
   "attachments": {},
   "cell_type": "markdown",
   "id": "4a7f219d",
   "metadata": {},
   "source": [
    "### 5. Erstelle ein Programm, das eine Liste von 5 Zufallszahlen erstellt und die größte und kleinste Zahl ausgibt. Verwende dafür for-Schleifen und if-else-Anweisungen. \n",
    "\n",
    "> Theoretisch könnt ihr noch keine Zufallszahlen erstellen, verwendet also folgenden Code Snippet um das zu tun: \n",
    "\n",
    "```python\n",
    "import random\n",
    "zufallszahlen = [random.randint(1, 100) for _ in range(5)]\n",
    "```"
   ]
  },
  {
   "cell_type": "code",
   "execution_count": 8,
   "id": "1d7fb5d4",
   "metadata": {},
   "outputs": [
    {
     "name": "stdout",
     "output_type": "stream",
     "text": [
      "Zufallszahlen: [63, 4, 26, 11, 71]\n",
      "Größte Zahl: 71\n",
      "Kleinste Zahl: 4\n"
     ]
    }
   ],
   "source": [
    "import random\n",
    "\n",
    "zufallszahlen = [random.randint(1, 100) for _ in range(5)]\n",
    "\n",
    "groesste_zahl = zufallszahlen[0]\n",
    "kleinste_zahl = zufallszahlen[0]\n",
    "\n",
    "for zahl in zufallszahlen:\n",
    "    if zahl > groesste_zahl:\n",
    "        groesste_zahl = zahl\n",
    "    elif zahl < kleinste_zahl:\n",
    "        kleinste_zahl = zahl\n",
    "\n",
    "print(\"Zufallszahlen:\", zufallszahlen)\n",
    "print(\"Größte Zahl:\", groesste_zahl)\n",
    "print(\"Kleinste Zahl:\", kleinste_zahl)\n"
   ]
  }
 ],
 "metadata": {
  "kernelspec": {
   "display_name": "Python 3 (ipykernel)",
   "language": "python",
   "name": "python3"
  },
  "language_info": {
   "codemirror_mode": {
    "name": "ipython",
    "version": 3
   },
   "file_extension": ".py",
   "mimetype": "text/x-python",
   "name": "python",
   "nbconvert_exporter": "python",
   "pygments_lexer": "ipython3",
   "version": "3.11.3"
  }
 },
 "nbformat": 4,
 "nbformat_minor": 5
}
