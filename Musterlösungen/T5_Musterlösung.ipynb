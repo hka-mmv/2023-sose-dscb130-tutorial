{
 "cells": [
  {
   "cell_type": "markdown",
   "id": "210c3ffb",
   "metadata": {},
   "source": [
    "### Übungen\n",
    "... von im Tutorium behandelten Konzepten\n"
   ]
  },
  {
   "cell_type": "markdown",
   "id": "35aa512d",
   "metadata": {},
   "source": [
    "\n",
    "### 1. Schreibe ein Programm welches 5 mal \"Hello World\" ausgiebt. Ohne zu Googeln!"
   ]
  },
  {
   "cell_type": "code",
   "execution_count": null,
   "id": "7e90f010",
   "metadata": {},
   "outputs": [],
   "source": [
    "#CODE HERE"
   ]
  },
  {
   "cell_type": "markdown",
   "id": "b763ae8c",
   "metadata": {},
   "source": [
    "<details>\n",
    "    <summary>Hinweis</summary>\n",
    "    Schreibe das Statement mehrmals hintereinander\n",
    "</details>"
   ]
  },
  {
   "cell_type": "markdown",
   "id": "be861460",
   "metadata": {},
   "source": [
    "### 2. Schreibe ein Programm welches \"Hello World\" 500x ausgiebt. "
   ]
  },
  {
   "cell_type": "code",
   "execution_count": null,
   "id": "02fbe708",
   "metadata": {},
   "outputs": [],
   "source": [
    "#CODE HERE\n"
   ]
  },
  {
   "cell_type": "markdown",
   "id": "9da2960e",
   "metadata": {},
   "source": [
    "<details>\n",
    "    <summary>Hinweis</summary>\n",
    "Mit dem For Schlüsselwort könnt ihr Code mehrmals ausführen.\n"
   ]
  },
  {
   "cell_type": "markdown",
   "id": "9564b84e",
   "metadata": {},
   "source": [
    "### 3. Gebe alle Zahlen aus zwischen 0 und 100, welche Gerade sind. "
   ]
  },
  {
   "cell_type": "code",
   "execution_count": null,
   "id": "7462230c",
   "metadata": {},
   "outputs": [],
   "source": []
  },
  {
   "cell_type": "markdown",
   "id": "c65950de",
   "metadata": {},
   "source": [
    "<details>\n",
    "    <summary>Hinweis</summary>\n",
    "\n",
    "Was macht der Modulo(%) operator nochmal? <br> Haben wir das nicht so ähnlich letztes Tutorium gemacht?\n",
    "\n",
    "</details>\n"
   ]
  },
  {
   "cell_type": "markdown",
   "id": "ab884d37",
   "metadata": {},
   "source": [
    "### 4. Schreibt eine Programm welches die Fakultät einer Zahl errechnet. Benutzt die For-Schleife.\n"
   ]
  },
  {
   "cell_type": "markdown",
   "id": "f1f3f3e4",
   "metadata": {},
   "source": [
    "Wenn der String eine gerade Zeichenanzahl hat sollen die beiden mittleren Zeichen anstatt des Einen ausgegeben werden"
   ]
  },
  {
   "cell_type": "code",
   "execution_count": 14,
   "id": "1403912d",
   "metadata": {},
   "outputs": [
    {
     "name": "stdout",
     "output_type": "stream",
     "text": [
      "Bitte geben Sie eine positive Ganzzahl ein: 5\n",
      "Die Fakultät von 5 ist 120\n"
     ]
    }
   ],
   "source": [
    "n = int(input(\"Bitte geben Sie eine positive Ganzzahl ein: \"))\n",
    "result = 1\n",
    "for i in range(1, n+1):\n",
    "    result *= i\n",
    "print(\"Die Fakultät von\", n, \"ist\", result)"
   ]
  },
  {
   "cell_type": "markdown",
   "id": "ba9270be",
   "metadata": {},
   "source": [
    "<details>\n",
    "    <summary>Hinweis</summary>\n",
    "\n",
    "https://de.wikipedia.org/wiki/Fakultät_(Mathematik)\n",
    "</details>\n",
    "\n"
   ]
  },
  {
   "cell_type": "markdown",
   "id": "862ada9a",
   "metadata": {},
   "source": [
    "### 5. Schreibt eine Programm welches die Fakultät einer Zahl errechnet. Benutzt die While-Schleife."
   ]
  },
  {
   "cell_type": "code",
   "execution_count": 13,
   "id": "f9d82f47",
   "metadata": {},
   "outputs": [
    {
     "name": "stdout",
     "output_type": "stream",
     "text": [
      "Bitte geben Sie eine positive Ganzzahl ein: 5\n",
      "Die Fakultät von 5 ist 120\n"
     ]
    }
   ],
   "source": [
    "n = int(input(\"Bitte geben Sie eine positive Ganzzahl ein: \"))\n",
    "result = 1\n",
    "i = 1\n",
    "while i <= n:\n",
    "    result *= i\n",
    "    i += 1\n",
    "print(\"Die Fakultät von\", n, \"ist\", result)"
   ]
  },
  {
   "cell_type": "markdown",
   "id": "7a638911",
   "metadata": {},
   "source": [
    "<details>\n",
    "    <summary>Hinweis</summary>\n",
    "\n",
    "https://de.wikipedia.org/wiki/Fakultät_(Mathematik)\n",
    "</details>\n",
    "\n"
   ]
  },
  {
   "cell_type": "markdown",
   "id": "31ce679a",
   "metadata": {},
   "source": [
    "### 6. Wenn ihr Aufgabe 4 und 5 vergleicht. Was ist der Unterschied zwischen einer For und While Schleife?"
   ]
  },
  {
   "cell_type": "code",
   "execution_count": null,
   "id": "21e3ac4c",
   "metadata": {},
   "outputs": [],
   "source": []
  },
  {
   "cell_type": "markdown",
   "id": "644cf9a0",
   "metadata": {},
   "source": [
    "<details>\n",
    "    <summary>Hinweis</summary>\n",
    "\n",
    "Python bietet hier wieder sehr nützliche eingebaute Funktionen.\n",
    "Sagen wir c ist ein str-element, dann kann man mit... <br>\n",
    "`c.isalpha()` prüfen ob c ein Zeichen ist.<br>\n",
    "`c.isdigit()` prüfen ob c eine Zahl ist.\n",
    "\n",
    "Außerdem brauchen wir hier eine Schleife :)\n",
    "</details>\n",
    "\n",
    "\n",
    "\n"
   ]
  },
  {
   "cell_type": "markdown",
   "id": "82e06e0f",
   "metadata": {},
   "source": [
    "### 7. Errechne alle Primzahlen zwischen 0 und 25."
   ]
  },
  {
   "cell_type": "code",
   "execution_count": 2,
   "id": "bf38f2cb",
   "metadata": {},
   "outputs": [
    {
     "name": "stdout",
     "output_type": "stream",
     "text": [
      "2\n",
      "3\n",
      "5\n",
      "7\n",
      "11\n",
      "13\n",
      "17\n",
      "19\n",
      "23\n"
     ]
    }
   ],
   "source": [
    "for num in range(2, 26):\n",
    "    is_prime = True\n",
    "    for i in range(2, num):\n",
    "        if num % i == 0:\n",
    "            is_prime = False\n",
    "            break\n",
    "    if is_prime:\n",
    "        print(num, \"ist eine Primzahl\")\n",
    "    else:\n",
    "        print(num, \"ist keine Primzahl\")"
   ]
  }
 ],
 "metadata": {
  "kernelspec": {
   "display_name": "Python 3 (ipykernel)",
   "language": "python",
   "name": "python3"
  },
  "language_info": {
   "codemirror_mode": {
    "name": "ipython",
    "version": 3
   },
   "file_extension": ".py",
   "mimetype": "text/x-python",
   "name": "python",
   "nbconvert_exporter": "python",
   "pygments_lexer": "ipython3",
   "version": "3.11.3"
  }
 },
 "nbformat": 4,
 "nbformat_minor": 5
}
