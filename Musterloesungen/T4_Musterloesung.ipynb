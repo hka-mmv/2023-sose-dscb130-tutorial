{
 "cells": [
  {
   "attachments": {},
   "cell_type": "markdown",
   "metadata": {},
   "source": [
    "### Übungen\n",
    "... von im Tutorium behandelten Konzepten\n"
   ]
  },
  {
   "attachments": {},
   "cell_type": "markdown",
   "metadata": {},
   "source": [
    "\n",
    "### 1. Schreibe ein Programm was die ersten n Zeichen von einem Input-String entfernt"
   ]
  },
  {
   "cell_type": "code",
   "execution_count": 3,
   "metadata": {},
   "outputs": [
    {
     "name": "stdout",
     "output_type": "stream",
     "text": [
      "soup soup kostet 5 sickel\n"
     ]
    }
   ],
   "source": [
    "#CODE HERE\n",
    "str_ = 'soup soup soup kostet 5 sickel'\n",
    "\n",
    "n = 5\n",
    "\n",
    "print(str_[5:])"
   ]
  },
  {
   "attachments": {},
   "cell_type": "markdown",
   "metadata": {},
   "source": [
    "###### Hinweis\n"
   ]
  },
  {
   "cell_type": "markdown",
   "metadata": {},
   "source": [
    "\n",
    "Nochmal zu Erinnerung zu string-slicing: `string[start:stop:step]`"
   ]
  },
  {
   "attachments": {},
   "cell_type": "markdown",
   "metadata": {},
   "source": [
    "### 2. Prüfe ob das erste und das letzte Zeichen eines Strings übereinstimmen"
   ]
  },
  {
   "cell_type": "code",
   "execution_count": 2,
   "metadata": {},
   "outputs": [
    {
     "name": "stdout",
     "output_type": "stream",
     "text": [
      "dann hätte ich gerne eine leaky soup soup oder doch lieber eine soup leaky house\n"
     ]
    }
   ],
   "source": [
    "#CODE HERE\n",
    "n = 'soup soup soup'\n",
    "\n",
    "if n[0]==n[-1]:\n",
    "    print('MHHHHHHHHHHHHHHH SOUP SOUP SOUP')\n",
    "else:\n",
    "    print('dann hätte ich gerne eine leaky soup soup oder doch lieber eine soup leaky house')"
   ]
  },
  {
   "attachments": {},
   "cell_type": "markdown",
   "metadata": {},
   "source": [
    "###### Hinweis"
   ]
  },
  {
   "attachments": {},
   "cell_type": "markdown",
   "metadata": {},
   "source": [
    "mit `string[-1]` greift man auf das letzte Element zu"
   ]
  },
  {
   "attachments": {},
   "cell_type": "markdown",
   "metadata": {},
   "source": [
    "### 3. Prüfe ob eine Zahl gerade ist"
   ]
  },
  {
   "cell_type": "code",
   "execution_count": 5,
   "metadata": {},
   "outputs": [],
   "source": [
    "#CODE HERE\n",
    "n = 6\n",
    "\n",
    "if n%2 == 0:\n",
    "    print('n ist gerade')\n",
    "else:\n",
    "    print('n is ungerade')\n"
   ]
  },
  {
   "attachments": {},
   "cell_type": "markdown",
   "metadata": {},
   "source": [
    "###### Hinweis"
   ]
  },
  {
   "attachments": {},
   "cell_type": "markdown",
   "metadata": {},
   "source": [
    "Was macht der Modulo(%) operator nochmal?"
   ]
  },
  {
   "attachments": {},
   "cell_type": "markdown",
   "metadata": {},
   "source": [
    "### 4. Schreibe ein Programm, dass einen String als Input nimmt und den auf sein erstes,mittleres und letztes Zeichen reduziert und ausgibt.\n"
   ]
  },
  {
   "attachments": {},
   "cell_type": "markdown",
   "metadata": {},
   "source": [
    "Wenn der String eine gerade Zeichenanzahl hat sollen die beiden mittleren Zeichen anstatt des Einen ausgegeben werden"
   ]
  },
  {
   "cell_type": "code",
   "execution_count": 8,
   "metadata": {},
   "outputs": [
    {
     "name": "stdout",
     "output_type": "stream",
     "text": [
      "JMS\n"
     ]
    }
   ],
   "source": [
    "#CODE HERE\n",
    "str_ = 'JAMES'\n",
    "middle_index = int(len(str_)/2)\n",
    "\n",
    "if len(str_)%2 == 0:\n",
    "    middle = str_[middle_index] + str_[middle_index+1]\n",
    "    print(str_[0]+middle+str_[-1])\n",
    "else:\n",
    "    middle = str_[middle_index]\n",
    "    print(str_[0]+middle+str_[-1])"
   ]
  },
  {
   "attachments": {},
   "cell_type": "markdown",
   "metadata": {},
   "source": [
    "###### Hinweis"
   ]
  },
  {
   "attachments": {},
   "cell_type": "markdown",
   "metadata": {},
   "source": [
    "Es gibt eine Python Funktion die die Länge eines Strings oder Liste ausgibt -> len(string)"
   ]
  },
  {
   "attachments": {},
   "cell_type": "markdown",
   "metadata": {},
   "source": [
    "### 5. Zählt alle Zeichen, Zahlen und Symbole eines Strings"
   ]
  },
  {
   "cell_type": "code",
   "execution_count": 10,
   "metadata": {},
   "outputs": [
    {
     "name": "stdout",
     "output_type": "stream",
     "text": [
      "\n",
      "Der String \"g3r0lst31n3r@hk4RT.d3\" enthält...\n",
      "12 Zeichen\n",
      "7 Zahlen\n",
      "2 Symbole\n",
      "\n"
     ]
    }
   ],
   "source": [
    "#CODE HERE\n",
    "str_ = 'g3r0lst31n3r@hk4RT.d3'\n",
    "\n",
    "char_count = 0\n",
    "digit_count = 0\n",
    "symbol_count = 0\n",
    "\n",
    "for char in str_:\n",
    "    if char.isalpha():\n",
    "        char_count += 1\n",
    "    elif char.isdigit():\n",
    "        digit_count += 1\n",
    "    # if it is not letter or digit then it is special symbol\n",
    "    else:\n",
    "        symbol_count += 1\n",
    "    \n",
    "print(f'''\n",
    "Der String \"{str_}\" enthält...\n",
    "{char_count} Zeichen\n",
    "{digit_count} Zahlen\n",
    "{symbol_count} Symbole\n",
    "''')"
   ]
  },
  {
   "attachments": {},
   "cell_type": "markdown",
   "metadata": {},
   "source": [
    "###### Hinweis"
   ]
  },
  {
   "attachments": {},
   "cell_type": "markdown",
   "metadata": {},
   "source": [
    "Python bietet hier wieder sehr nützliche eingebaute Funktionen.\n",
    "Sagen wir c ist ein str-element, dann kann man mit... <br>\n",
    "`c.isalpha()` prüfen ob c ein Zeichen ist.<br>\n",
    "`c.isdigit()` prüfen ob c eine Zahl ist.\n",
    "\n",
    "Außerdem brauchen wir hier eine Schleife :)\n"
   ]
  },
  {
   "attachments": {},
   "cell_type": "markdown",
   "metadata": {},
   "source": [
    "### 6. String in Wörter aufteilen und jedes Wort als einzelne Zeile ausgeben"
   ]
  },
  {
   "cell_type": "code",
   "execution_count": 13,
   "metadata": {},
   "outputs": [
    {
     "name": "stdout",
     "output_type": "stream",
     "text": [
      "5\n",
      "Minuten\n",
      "Harry\n",
      "Podcast,\n",
      "Soup\n",
      "Soup\n",
      "Soup.\n",
      ":)\n"
     ]
    }
   ],
   "source": [
    "str_ = '5 Minuten Harry Podcast, Soup Soup Soup. :)'\n",
    "\n",
    "for i in str_.split(' '):\n",
    "    print(i)"
   ]
  },
  {
   "attachments": {},
   "cell_type": "markdown",
   "metadata": {},
   "source": [
    "###### Hinweis"
   ]
  },
  {
   "attachments": {},
   "cell_type": "markdown",
   "metadata": {},
   "source": [
    "Hier brauchen wir die Python Funktion `split()` welche auf strings angewendet werden kann und wieder eine Schleife :)"
   ]
  }
 ],
 "metadata": {
  "kernelspec": {
   "display_name": "base",
   "language": "python",
   "name": "python3"
  },
  "language_info": {
   "codemirror_mode": {
    "name": "ipython",
    "version": 3
   },
   "file_extension": ".py",
   "mimetype": "text/x-python",
   "name": "python",
   "nbconvert_exporter": "python",
   "pygments_lexer": "ipython3",
   "version": "3.9.13"
  },
  "orig_nbformat": 4,
  "vscode": {
   "interpreter": {
    "hash": "f88fa80fe6eafa9852e0ecf90ee13e19f056320452cc8499fe362069825ad96d"
   }
  }
 },
 "nbformat": 4,
 "nbformat_minor": 2
}
