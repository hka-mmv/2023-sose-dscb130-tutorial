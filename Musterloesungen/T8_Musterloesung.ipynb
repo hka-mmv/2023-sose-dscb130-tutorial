{
 "cells": [
  {
   "cell_type": "markdown",
   "id": "e9809259",
   "metadata": {},
   "source": [
    "## Aufgabe_1"
   ]
  },
  {
   "cell_type": "markdown",
   "id": "c689fc53",
   "metadata": {},
   "source": [
    "Schreibe eine Funktion welche die höchste Ziffer einer dreistelligen Zahl ausgibt und schreibe den passenden Docstring."
   ]
  },
  {
   "cell_type": "code",
   "execution_count": 2,
   "id": "5d3bf389",
   "metadata": {},
   "outputs": [
    {
     "data": {
      "text/plain": [
       "'9'"
      ]
     },
     "execution_count": 2,
     "metadata": {},
     "output_type": "execute_result"
    }
   ],
   "source": [
    "\n",
    "def high_number(a):\n",
    "    '''Findet die höchste Zahl einer dreistelligen Zahl'''\n",
    "    \n",
    "    my_list = []\n",
    "    my_list.append(str(a)[0])\n",
    "    my_list.append(str(a)[1])\n",
    "    my_list.append(str(a)[2])\n",
    "    \n",
    "    return max(my_list)\n",
    "    \n",
    "# Beispielaufruf\n",
    "high_number(986)"
   ]
  },
  {
   "cell_type": "markdown",
   "id": "f1c66827",
   "metadata": {},
   "source": [
    "## Aufgabe_2"
   ]
  },
  {
   "cell_type": "markdown",
   "id": "b1ec50e1",
   "metadata": {},
   "source": [
    "Schreibe eine Funktion welche die geraden Zahlen einer Liste ausgiebt und schreibe den passenden Docstring."
   ]
  },
  {
   "cell_type": "code",
   "execution_count": 1,
   "id": "481e2709",
   "metadata": {},
   "outputs": [
    {
     "name": "stdout",
     "output_type": "stream",
     "text": [
      "2\n",
      "4\n",
      "6\n",
      "8\n"
     ]
    }
   ],
   "source": [
    "meine_liste = [2,3,4,5,6,7,8]\n",
    "\n",
    "def num_sum(a):\n",
    "    '''Gibt nur die geraden Zahlen einer Liste aus'''\n",
    "    for i in a:\n",
    "        if i % 2 == 0:\n",
    "            print(i)\n",
    "\n",
    "\n",
    "# Beispielaufruf\n",
    "num_sum(meine_liste)"
   ]
  },
  {
   "cell_type": "markdown",
   "id": "30caa7f0",
   "metadata": {},
   "source": [
    "## Aufgabe_3"
   ]
  },
  {
   "cell_type": "markdown",
   "id": "c9a844ac",
   "metadata": {},
   "source": [
    "Schreibe eine Funktion die einen String umkehrt und ausgiebt und schreibe den passenden Docstring. \n",
    "<br>\n",
    "Sample String : \"1234abcd\"<br>\n",
    "Expected Output : \"dcba4321\""
   ]
  },
  {
   "cell_type": "code",
   "execution_count": 4,
   "id": "59bde50f",
   "metadata": {},
   "outputs": [
    {
     "name": "stdout",
     "output_type": "stream",
     "text": [
      "dcba4321\n"
     ]
    }
   ],
   "source": [
    "sample_string = \"1234abcd\"\n",
    "\n",
    "\n",
    "def reverse(a):\n",
    "    '''gibt String in umgekehrter Reihenfolge aus'''\n",
    "    print(a[::-1])\n",
    "\n",
    "reverse(sample_string)"
   ]
  },
  {
   "cell_type": "markdown",
   "id": "bc717617",
   "metadata": {},
   "source": [
    "## Aufgabe_4"
   ]
  },
  {
   "cell_type": "markdown",
   "id": "d4652be5",
   "metadata": {},
   "source": [
    "Schreibe eine Python Funktion die nur Strings entgegennimmt und die Anzahl der Groß- und Kleinbuchstaben ausgibt und schreibe den passenden Docstring. <br>\n",
    "Schaue dir hierzu die `isupper()` und `islower()` Funktionen an"
   ]
  },
  {
   "cell_type": "code",
   "execution_count": 28,
   "id": "412e5a00",
   "metadata": {},
   "outputs": [
    {
     "data": {
      "text/plain": [
       "(2, 18)"
      ]
     },
     "execution_count": 28,
     "metadata": {},
     "output_type": "execute_result"
    }
   ],
   "source": [
    "my_string = \"Hallo ich bin ein String\"\n",
    "\n",
    "def upper_lower(a):\n",
    "    \n",
    "    if type(a) == str:\n",
    "        my_list_upper = []\n",
    "        my_list_lower = []\n",
    "    \n",
    "        for i in a:\n",
    "            if i.isupper(): \n",
    "                my_list_upper.append(i)\n",
    "            if i.islower():\n",
    "                my_list_lower.append(i)\n",
    "            \n",
    "        return len(my_list_upper), len(my_list_lower)\n",
    "    else:\n",
    "        print('kein string!')\n",
    "\n",
    "upper_lower(my_string)"
   ]
  },
  {
   "attachments": {},
   "cell_type": "markdown",
   "id": "7de38d9e",
   "metadata": {},
   "source": [
    "## Aufgabe_5\n"
   ]
  },
  {
   "cell_type": "code",
   "execution_count": 1,
   "id": "71b1e1eb",
   "metadata": {},
   "outputs": [
    {
     "data": {
      "text/plain": [
       "50"
      ]
     },
     "execution_count": 1,
     "metadata": {},
     "output_type": "execute_result"
    }
   ],
   "source": [
    "def multiply(*args):\n",
    "    total = 1\n",
    "\n",
    "    for num in args:\n",
    "        total *= num\n",
    "    \n",
    "    return total\n",
    "\n",
    "multiply(5,5,2)\n"
   ]
  },
  {
   "attachments": {},
   "cell_type": "markdown",
   "id": "80d67f9a",
   "metadata": {},
   "source": [
    "## Aufgabe_6"
   ]
  },
  {
   "cell_type": "code",
   "execution_count": 7,
   "id": "5ddc13c4",
   "metadata": {},
   "outputs": [
    {
     "data": {
      "text/plain": [
       "[1, 3, 5, 7, 9]"
      ]
     },
     "execution_count": 7,
     "metadata": {},
     "output_type": "execute_result"
    }
   ],
   "source": [
    "def uneven_numbers(a,b):\n",
    "    '''prints a range of all uneven numbers, a has to be uneven'''\n",
    "    return list(range(a,b))[::2]\n",
    "\n",
    "uneven_numbers(1,10)"
   ]
  }
 ],
 "metadata": {
  "kernelspec": {
   "display_name": "Python 3",
   "language": "python",
   "name": "python3"
  },
  "language_info": {
   "codemirror_mode": {
    "name": "ipython",
    "version": 3
   },
   "file_extension": ".py",
   "mimetype": "text/x-python",
   "name": "python",
   "nbconvert_exporter": "python",
   "pygments_lexer": "ipython3",
   "version": "3.10.6"
  },
  "vscode": {
   "interpreter": {
    "hash": "916dbcbb3f70747c44a77c7bcd40155683ae19c65e1c03b4aa3499c5328201f1"
   }
  }
 },
 "nbformat": 4,
 "nbformat_minor": 5
}
