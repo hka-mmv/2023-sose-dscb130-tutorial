{
 "cells": [
  {
   "cell_type": "markdown",
   "id": "e9bf8fbf",
   "metadata": {},
   "source": [
    "# 2. Tutorium"
   ]
  },
  {
   "cell_type": "markdown",
   "id": "48af297a",
   "metadata": {},
   "source": [
    "<div class=\"alert alert-block alert-info\"> \n",
    "<b>NOTE</b> \"Es gibt in der Informatik verschiedene Datentypen, die sich durch Eigenschften und mögliche Operationen auszeichnen. Der Datentyp Integer, welcher einem häufig begenet hat beispielsweise die Eigenschaft, dass er ganzzahlig ist. Eine Übersicht über die zu Beginn wichtigen Datentypen, ist in der folgenden Tabelle aufgeführt\" </div>"
   ]
  },
  {
   "cell_type": "markdown",
   "id": "2d86e1a0",
   "metadata": {},
   "source": [
    "## Übersicht "
   ]
  },
  {
   "cell_type": "markdown",
   "id": "78343d5a",
   "metadata": {},
   "source": [
    "|Bezeichnung|Abkürzung|Bedeutung                         |Beispiel                |   \n",
    "|-----------|---------|----------------------------------|------------------------|\n",
    "|integer    |int      |ganze Zahl                        |3                       |\n",
    "|float      |float    |Fließkommazahl                    |3.1                    |   \n",
    "|string     |str      |Zeichenkette                      |“Paprika, Salami“       |   \n",
    "|boolean    |bool     |boolesche Werte (Wahrheitswerte)  |True oder False         |  \n",
    "|list       |list     |Liste                             |[“Salami“, “Margherita“]|  \n",
    "|tuple      |tuple    |Tupel (Elemente nicht veränderbar)|(‘Pizza‘,‘Salat‘,‘Eis‘) |  "
   ]
  },
  {
   "cell_type": "markdown",
   "id": "69171b4c",
   "metadata": {},
   "source": [
    "## Prüfen welcher Datentyp vorliegt "
   ]
  },
  {
   "cell_type": "markdown",
   "id": "a32b940b",
   "metadata": {},
   "source": [
    "Mit der `type()` Funktion lässt sich einfach prüfen welchen Datentyp verschiedene vorliegende Daten haben.\n",
    "\n",
    "Teste die Funktion im Folgenden und überlege vorher was die `type()` Funktion voraussichtlich ausgeben wird."
   ]
  },
  {
   "cell_type": "code",
   "execution_count": 2,
   "id": "d778af92",
   "metadata": {},
   "outputs": [],
   "source": [
    "a = []\n",
    "b = ()\n",
    "c = 34567\n",
    "d = ['foo','bar','char']\n",
    "e = True\n",
    "f = 3.141592\n",
    "g = ['False']"
   ]
  },
  {
   "cell_type": "code",
   "execution_count": 3,
   "id": "d9a368c4",
   "metadata": {},
   "outputs": [
    {
     "data": {
      "text/plain": [
       "int"
      ]
     },
     "execution_count": 3,
     "metadata": {},
     "output_type": "execute_result"
    }
   ],
   "source": [
    "type(c)"
   ]
  },
  {
   "cell_type": "markdown",
   "id": "b59670d9",
   "metadata": {},
   "source": [
    "### Aufgabe 1: Depotwert"
   ]
  },
  {
   "cell_type": "markdown",
   "id": "7e8c07c5",
   "metadata": {},
   "source": [
    "<div class=\"alert alert-block alert-info\"> \n",
    "<b>Falls in Vorlesung noch nicht behandelt</b> \"In Python kann man strings durch ein Plus-Zeichen verketten\" </div>"
   ]
  },
  {
   "cell_type": "markdown",
   "id": "f2f52bbf",
   "metadata": {},
   "source": [
    "Mache folgendes Programm lauffähig"
   ]
  },
  {
   "cell_type": "code",
   "execution_count": 5,
   "id": "31d62ca7",
   "metadata": {
    "scrolled": true
   },
   "outputs": [
    {
     "name": "stdout",
     "output_type": "stream",
     "text": [
      "Mein Depot hat folgenden Wert: 1000 Euro\n"
     ]
    }
   ],
   "source": [
    "Depotwert = 1000\n",
    "\n",
    "print(\"Mein Depot hat folgenden Wert: \" + str(Depotwert) + \" Euro\")"
   ]
  },
  {
   "cell_type": "markdown",
   "id": "b8208c0a",
   "metadata": {},
   "source": [
    "<details>\n",
    "  <summary>Hinweis</summary>\n",
    "    Prüfe in welchem Datentyp der Depotwert vorliegt\n",
    "</details>"
   ]
  },
  {
   "cell_type": "markdown",
   "id": "91702d9d",
   "metadata": {},
   "source": [
    "# Numbers und Arithmetik"
   ]
  },
  {
   "cell_type": "markdown",
   "id": "4de2d259",
   "metadata": {},
   "source": [
    "<div class=\"alert alert-block alert-info\"> \n",
    "<b>NOTE</b> \"Alle denkbaren Rechenoperationen lassen sich auf einem Computer ausführen, hierzu gibt es einige hilfreiche builtin functions\" </div>"
   ]
  },
  {
   "cell_type": "markdown",
   "id": "fb69c9ac",
   "metadata": {},
   "source": [
    "| Operator     | Name           | Description                                            |\n",
    "|--------------|----------------|--------------------------------------------------------|\n",
    "| ``a + b``    | Addition       | Sum of ``a`` and ``b``                                 |\n",
    "| ``a - b``    | Subtraction    | Difference of ``a`` and ``b``                          |\n",
    "| ``a * b``    | Multiplication | Product of ``a`` and ``b``                             |\n",
    "| ``a / b``    | True division  | Quotient of ``a`` and ``b``                            |\n",
    "| ``a // b``   | Floor division | Quotient of ``a`` and ``b``, removing fractional parts |\n",
    "| ``a % b``    | Modulus        | Integer remainder after division of ``a`` by ``b``     |\n",
    "| ``a ** b``   | Exponentiation | ``a`` raised to the power of ``b``                     |\n",
    "| ``-a``       | Negation       | The negative of ``a``                                  |"
   ]
  },
  {
   "cell_type": "markdown",
   "id": "72704099",
   "metadata": {},
   "source": [
    "### Aufgabe 2: Flächeninhalt\n",
    "\n",
    "1. Erstelle eine Variable namens \"radius\" mit dem entsprechenden Wert\n",
    "\n",
    "2. Erstelle eine Variable namens \"fläche\", mit der Formel für die Kreisberechnung\n",
    "\n",
    "3. Gebe den Flächeninhalt aus"
   ]
  },
  {
   "cell_type": "code",
   "execution_count": 6,
   "id": "269b625a",
   "metadata": {},
   "outputs": [
    {
     "name": "stdout",
     "output_type": "stream",
     "text": [
      "(3, 141592, 3, 141592, 3, 141592)\n"
     ]
    }
   ],
   "source": [
    "pi = 3,141592\n",
    "durchmesser = 3 \n",
    "radius = durchmesser/2\n",
    "a = durchmesser * pi\n",
    "print(a)\n",
    "# Lösche diese Zeile und programmiere hier weite"
   ]
  },
  {
   "cell_type": "markdown",
   "id": "49952d0f",
   "metadata": {},
   "source": [
    "<details>\n",
    "  <summary>Hinweis</summary>\n",
    "    Was ist das Trennzeichen für den Datentyp float?\n",
    "</details>"
   ]
  },
  {
   "cell_type": "markdown",
   "id": "542d486f",
   "metadata": {},
   "source": [
    "### Aufgabe 3:  Klammern"
   ]
  },
  {
   "cell_type": "markdown",
   "id": "1e1a0c33",
   "metadata": {},
   "source": [
    "Füge im folgenden Ausdruck Klammern so hinzu, dass das Programm 1 als Ausgabe liefert"
   ]
  },
  {
   "cell_type": "code",
   "execution_count": 7,
   "id": "7a32ab2c",
   "metadata": {},
   "outputs": [
    {
     "data": {
      "text/plain": [
       "1"
      ]
     },
     "execution_count": 7,
     "metadata": {},
     "output_type": "execute_result"
    }
   ],
   "source": [
    "(5 - 3) // 2"
   ]
  },
  {
   "cell_type": "markdown",
   "id": "70444e78",
   "metadata": {},
   "source": [
    "Füge im folgenden Ausdruck Klammern so hinzu, dass das Programm 0 als Ausgabe liefert"
   ]
  },
  {
   "cell_type": "code",
   "execution_count": 8,
   "id": "d04d0a7b",
   "metadata": {},
   "outputs": [
    {
     "data": {
      "text/plain": [
       "0"
      ]
     },
     "execution_count": 8,
     "metadata": {},
     "output_type": "execute_result"
    }
   ],
   "source": [
    "8 - 3 * 2 - (1 + 1)"
   ]
  },
  {
   "cell_type": "markdown",
   "id": "7017f0c9",
   "metadata": {},
   "source": [
    "### Aufgabe 4: Nüsse"
   ]
  },
  {
   "cell_type": "markdown",
   "id": "618ddc7b",
   "metadata": {},
   "source": [
    "Rita, Jonas und Ron sammeln auf dem HKA-Gelände Nüsse und wollen sie am Ende gleichmäßig aufteilen. \n",
    "Jeder erhält gleich viele Nüsse und die restlichen werden an die Eichhörnchen auf dem Campus verfüttert. \n",
    "Schreibe einen Ausdruck welcher berechnet, wie viele Nüsse an die Eichhörnchen gehen. "
   ]
  },
  {
   "cell_type": "code",
   "execution_count": 10,
   "id": "e45b3a80",
   "metadata": {},
   "outputs": [
    {
     "name": "stdout",
     "output_type": "stream",
     "text": [
      "1  Nüsse gehen an die Eichhörnchen\n"
     ]
    }
   ],
   "source": [
    "rita_nüsse = 121\n",
    "jonas_nüsse = 77\n",
    "ron_nüsse = 109\n",
    "\n",
    "gesamt = rita_nüsse + jonas_nüsse + ron_nüsse\n",
    "print(gesamt % 3, ' Nüsse gehen an die Eichhörnchen')"
   ]
  },
  {
   "cell_type": "markdown",
   "id": "6edab4aa",
   "metadata": {},
   "source": [
    "<details>\n",
    "  <summary>Hinweis</summary>\n",
    "    Was war nochmal Modulo?\n",
    "</details>"
   ]
  },
  {
   "cell_type": "markdown",
   "id": "bca9dcf4",
   "metadata": {},
   "source": [
    "### Aufgabe 5: Zinseszins "
   ]
  },
  {
   "cell_type": "markdown",
   "id": "eae07c72",
   "metadata": {},
   "source": [
    "<div class=\"alert alert-block alert-info\"> \n",
    "<b>NOTE</b> \"Mithilfe der Zinseszinsformel berechnet man, über wie viel Kapital ein Anleger zu einem in der Zukunft liegenden Zeitpunkt verfügt. Dabei werden sowohl Zins- als auch Zinseszinseffekte berücksichtigt.\" </div>"
   ]
  },
  {
   "cell_type": "markdown",
   "id": "9bc50100",
   "metadata": {},
   "source": [
    "$K_{n} = K_{0} * (1+\\frac{p}{100})^n$"
   ]
  },
  {
   "cell_type": "markdown",
   "id": "fcfd017e",
   "metadata": {},
   "source": [
    "Schreibe ein Programm das nach den benötigten Größen (Startkapital, Zinssatz, Jahre) für die Zinseszinsformel fragt, welches dann das voraussichtliche Kapital ausgibt.  "
   ]
  },
  {
   "cell_type": "code",
   "execution_count": 11,
   "id": "cf7d5a8a",
   "metadata": {},
   "outputs": [
    {
     "name": "stdout",
     "output_type": "stream",
     "text": [
      "Startkapital: 5000\n",
      "Zinssatz: 0.1\n",
      "Laufzeit: 5\n",
      "8052.550000000003\n"
     ]
    }
   ],
   "source": [
    "kapital = int(input('Startkapital: '))\n",
    "zins = float(input('Zinssatz: '))\n",
    "jahre = int(input('Laufzeit: '))\n",
    "\n",
    "kn = kapital * (1+zins)**jahre\n",
    "\n",
    "print(kn)"
   ]
  },
  {
   "cell_type": "markdown",
   "id": "727e3046",
   "metadata": {},
   "source": [
    "<details>\n",
    "  <summary>Hinweis</summary>\n",
    "Man kann Variablen entsprechend eines gewünschten Datentyps definieren. \n",
    "Bspw. lässt sich aus einem int ein    string machen durch folgende Funktion.  -> str(int) \n",
    "</details>"
   ]
  }
 ],
 "metadata": {
  "kernelspec": {
   "display_name": "Python 3 (ipykernel)",
   "language": "python",
   "name": "python3"
  },
  "language_info": {
   "codemirror_mode": {
    "name": "ipython",
    "version": 3
   },
   "file_extension": ".py",
   "mimetype": "text/x-python",
   "name": "python",
   "nbconvert_exporter": "python",
   "pygments_lexer": "ipython3",
   "version": "3.9.13"
  },
  "vscode": {
   "interpreter": {
    "hash": "0adcc2737ebf6a4a119f135174df96668767fca1ef1112612db5ecadf2b6d608"
   }
  }
 },
 "nbformat": 4,
 "nbformat_minor": 5
}
