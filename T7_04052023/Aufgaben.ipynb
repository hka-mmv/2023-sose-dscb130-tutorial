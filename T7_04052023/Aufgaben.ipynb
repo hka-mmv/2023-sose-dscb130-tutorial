{
 "cells": [
  {
   "attachments": {},
   "cell_type": "markdown",
   "metadata": {},
   "source": [
    "### 1.\n",
    "Schreibe ein Programm, dass über das Dictionary iteriert und jeden Key n-mal in eine neue Liste einfügt\n",
    "> n ist hier im Dictionary der dem Key zugeschriebene Wert!"
   ]
  },
  {
   "cell_type": "code",
   "execution_count": null,
   "metadata": {},
   "outputs": [],
   "source": [
    "my_dict = {'Kuepi': 10,\n",
    "           'Matze': 3,\n",
    "           'DJ Anki': 2,\n",
    "           }\n",
    "\n",
    "my_list = list()\n",
    "\n",
    "\n",
    "# code here"
   ]
  },
  {
   "attachments": {},
   "cell_type": "markdown",
   "metadata": {},
   "source": [
    "### 2.\n",
    "\n",
    "Wir benutzen wieder das Dicitonary my_dict, diesmal wollen wir herausfinden welcher Key den höchsten Wert hat!\n"
   ]
  },
  {
   "cell_type": "code",
   "execution_count": null,
   "metadata": {},
   "outputs": [],
   "source": [
    "# code here\n"
   ]
  },
  {
   "attachments": {},
   "cell_type": "markdown",
   "metadata": {},
   "source": [
    "### 3.\n",
    "\n",
    "Wandle die Liste von Tupeln in ein Dictionary um"
   ]
  },
  {
   "cell_type": "code",
   "execution_count": null,
   "metadata": {},
   "outputs": [],
   "source": [
    "items = [('Python', 6), ('the', 6), ('and', 5), ('We', 2), ('with', 2), ('The', 1), ('Software', 1), ('Foundation', 1), ('PSF', 1), ('is', 1)]\n",
    "\n",
    "word_dict = dict()\n",
    "# code here\n",
    "\n"
   ]
  },
  {
   "attachments": {},
   "cell_type": "markdown",
   "metadata": {},
   "source": [
    "### 4.\n",
    "\n",
    "Schreibe ein Programm, dass alle einzigartigen Wörter der Textes 'sample_text' in einer Collection speichert."
   ]
  },
  {
   "cell_type": "code",
   "execution_count": null,
   "metadata": {},
   "outputs": [],
   "source": [
    "sample_text = 'Far far away, behind the word mountains, far from the countries Vokalia and Consonantia, there live the blind texts. Separated they live in Bookmarksgrove right at the coast of the Semantics, a large language ocean. A small river named Duden flows by their place and supplies it with the necessary regelialia. It is a paradisematic country, in which roasted parts of sentences fly into your mouth. Even the all-powerful Pointing has no control about the blind texts it is an almost unorthographic life One day however a small line of blind text by the name of Lorem Ipsum decided to leave for the far World of Grammar. The Big Oxmox advised her not to do so, because there were thousands of bad Commas, wild Question Marks and devious Semikoli, but the Little Blind Text didn’t listen. She packed her seven versalia, put her initial into the belt and made herself on the way. When she reached the first hills of the Italic Mountains, she had a last view back on the skyline of her hometown Bookmarksgrove, the headline of Alphabet Village and the subline of her own road, the Line Lane. Pityful a rethoric question ran over her cheek'\n",
    "\n",
    "# code here\n"
   ]
  },
  {
   "attachments": {},
   "cell_type": "markdown",
   "metadata": {},
   "source": [
    "### 5. \n",
    "Schreibe ein Programm was die Wörter von 'sample_text' zählt und die Wörter mit ihrer Häufigkeit in einer Collection abspeichert."
   ]
  },
  {
   "cell_type": "code",
   "execution_count": null,
   "metadata": {},
   "outputs": [],
   "source": [
    "word_count = dict()\n",
    "\n",
    "# code here"
   ]
  },
  {
   "attachments": {},
   "cell_type": "markdown",
   "metadata": {},
   "source": [
    "### 6.\n",
    "Die folgenden Collections stellen Farben in vershiedenen darstellungsmöglichkeiten dar(hex, name, rgb).\n",
    "\n",
    "Wir wollen aber eine Liste haben in der jedes Element ein Tupel bestehend aus den Darstellungsmöglichkeiten der Farbe. \n",
    "\n",
    "Der Tupel soll also in der Form\n",
    "\n",
    ">(Name, hex, rgb)\n",
    "\n",
    "sein"
   ]
  },
  {
   "cell_type": "code",
   "execution_count": null,
   "metadata": {},
   "outputs": [],
   "source": [
    "hex_codes = ['#F4364C','#EB212E','#08FF08','#C4D300']\n",
    "\n",
    "color_name = ['Amaranth','Lightsaber Red','Fluorescent Green','Shrek Green']\n",
    "\n",
    "rgb_values = [(244,54,76),(235,33,46),(8,255,8),(196,211,0)]\n",
    "\n",
    "# code here\n"
   ]
  },
  {
   "attachments": {},
   "cell_type": "markdown",
   "metadata": {},
   "source": [
    "### 7.\n",
    "\n",
    "Schreibe ein Programm was die Tupel aus 'tuple_list' zusammenfügt, bei denen das erste Element übereinstimmt und diese in einer neuen Liste ausgibt."
   ]
  },
  {
   "cell_type": "code",
   "execution_count": null,
   "metadata": {},
   "outputs": [],
   "source": [
    "tuple_list = [(5, 6), (5, 7), (5, 8), (6, 10), (7, 13)] \n",
    "\n",
    "merged_tuples = list()\n",
    "initial_numbers = []\n",
    "\n",
    "# code here\n"
   ]
  }
 ],
 "metadata": {
  "kernelspec": {
   "display_name": "Python 3",
   "language": "python",
   "name": "python3"
  },
  "language_info": {
   "codemirror_mode": {
    "name": "ipython",
    "version": 3
   },
   "file_extension": ".py",
   "mimetype": "text/x-python",
   "name": "python",
   "nbconvert_exporter": "python",
   "pygments_lexer": "ipython3",
   "version": "3.10.1"
  },
  "orig_nbformat": 4
 },
 "nbformat": 4,
 "nbformat_minor": 2
}
