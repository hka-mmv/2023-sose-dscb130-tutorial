{
 "cells": [
  {
   "cell_type": "markdown",
   "id": "910e0e52",
   "metadata": {},
   "source": [
    "# Functions"
   ]
  },
  {
   "cell_type": "markdown",
   "id": "11802015",
   "metadata": {},
   "source": [
    "Eine Funktion (englisch function) ist in der Informatik und in verschiedenen höheren Programmiersprachen die Bezeichnung eines Programmkonstrukts, mit dem der Programm-Quellcode strukturiert werden kann, so dass Teile der Funktionalität des Programms wiederverwendbar sind. <a href=\"https://de.wikipedia.org/wiki/Funktion_(Programmierung)\">Quelle </a>"
   ]
  },
  {
   "cell_type": "markdown",
   "id": "93e3f933",
   "metadata": {},
   "source": [
    "Du hast bereits einige Funtionen genutzt wie z.B. `print()` oder `isnumeric()`. Eine Funktion ist kurz gesagt ein Codeblock der aufgerufen werden kann. In Python gibt es schon einige built-in Funktionen. Sinnvoll ist es aber eigene Funktionen für individuelle Anwendungsfällt zu definieren."
   ]
  },
  {
   "cell_type": "markdown",
   "id": "50d51f15",
   "metadata": {},
   "source": [
    "## Definieren und aufrufen einer Funktion"
   ]
  },
  {
   "cell_type": "code",
   "execution_count": 1,
   "id": "983d4abf",
   "metadata": {},
   "outputs": [],
   "source": [
    "# Beispiel\n",
    "\n",
    "def print_hello_function():                          # Namen der Funktion klein schreiben (Konvention)  \n",
    "    '''Gibt einen Hello! String aus'''\n",
    "    \n",
    "    print('Hello!')\n"
   ]
  },
  {
   "cell_type": "markdown",
   "id": "60699970",
   "metadata": {},
   "source": [
    " <div class=\"alert alert-block alert-info\"> \n",
    "    <b>NOTE</b> \"Am Anfang einer Funktion sollte durch einen sog. Documentation String (Docstring), beschrieben sein was eine Funktion macht (nicht wie). Definiert werden Docstrings durch drei Anführungszeichen (Siehe Beispiel oben)\" </div>"
   ]
  },
  {
   "cell_type": "code",
   "execution_count": 15,
   "id": "6b2d44f9",
   "metadata": {
    "scrolled": true
   },
   "outputs": [
    {
     "name": "stdout",
     "output_type": "stream",
     "text": [
      "Hello!\n"
     ]
    }
   ],
   "source": [
    "# Aufruf durch schreiben des Funktionsnamens mit Klammern\n",
    "\n",
    "print_hello_function()"
   ]
  },
  {
   "cell_type": "markdown",
   "id": "71ba93d4",
   "metadata": {},
   "source": [
    "## return-statement"
   ]
  },
  {
   "cell_type": "markdown",
   "id": "376d35e9",
   "metadata": {},
   "source": [
    "Wenn eine Funktion einen Wert zurückliefern soll kann das `return` Statement genutzt werden. "
   ]
  },
  {
   "cell_type": "markdown",
   "id": "52487805",
   "metadata": {},
   "source": [
    "## pass-statement"
   ]
  },
  {
   "cell_type": "markdown",
   "id": "fcb15945",
   "metadata": {},
   "source": [
    "Funktionen können nicht \"leer\" sein, wenn eine Funtion aber keinen Wert zurückliefern soll kann man das `pass` Statement nutzen"
   ]
  },
  {
   "cell_type": "code",
   "execution_count": null,
   "id": "6edcde05",
   "metadata": {},
   "outputs": [],
   "source": [
    "# Beispiel\n",
    "\n",
    "def neue_funktion():\n",
    "    pass"
   ]
  },
  {
   "cell_type": "markdown",
   "id": "832872b2",
   "metadata": {},
   "source": [
    "## Funktionsaufruf mit Parametern"
   ]
  },
  {
   "cell_type": "markdown",
   "id": "a88bc2c9",
   "metadata": {},
   "source": [
    "Funktionen können auch Parameter bzw. Argumente übergeben werden. Mache dir klar was die `least_difference` Funktion macht, rufe sie auf und schreibe den passenden Docstring dazu."
   ]
  },
  {
   "cell_type": "code",
   "execution_count": 9,
   "id": "4b2cf2e2",
   "metadata": {},
   "outputs": [],
   "source": [
    "# Beispiel\n",
    "\n",
    "def least_difference(a, b, c):\n",
    "\n",
    "    diff1 = abs(a - b)\n",
    "    diff2 = abs(b - c)\n",
    "    diff3 = abs(a - c)\n",
    "    \n",
    "    return min(diff1, diff2, diff3)     "
   ]
  },
  {
   "cell_type": "markdown",
   "id": "aa94225b",
   "metadata": {},
   "source": [
    "## Args und Kwargs"
   ]
  },
  {
   "cell_type": "markdown",
   "id": "ec1d47d3",
   "metadata": {},
   "source": [
    "Args ist die englische Abkürzung für Arguments, Kwargs die für Keyword-Arguments.\n",
    "\n",
    "Args haben wir gerade schon kennengelernt. Kwargs sind auch Parameter, jedoch weisen wir ihnen direkt einen Wert zu."
   ]
  },
  {
   "cell_type": "code",
   "execution_count": 3,
   "id": "af7f2a87",
   "metadata": {},
   "outputs": [
    {
     "name": "stdout",
     "output_type": "stream",
     "text": [
      "True\n",
      "35\n"
     ]
    }
   ],
   "source": [
    "def function(keyword=True, number=35):\n",
    "    print(keyword)\n",
    "    print(number)\n",
    "    \n",
    "function()\n"
   ]
  },
  {
   "cell_type": "markdown",
   "id": "1f7ef89c",
   "metadata": {},
   "source": [
    "Jetzt kann es aber sein, dass wir eine beliebige Anzahl an Argumenten oder Keyword-Argumenten einer Funktion übergeben wollen, ohne dass wir jedes Parameter explizit einfügen, weil das sehr lange dauern würde.\n",
    "Dafür gibt es ```*args``` und ```**kwargs```"
   ]
  },
  {
   "cell_type": "code",
   "execution_count": 5,
   "id": "45c046a7",
   "metadata": {},
   "outputs": [
    {
     "data": {
      "text/plain": [
       "14"
      ]
     },
     "execution_count": 5,
     "metadata": {},
     "output_type": "execute_result"
    }
   ],
   "source": [
    "def add(a,b,c,d,e,f): #Beispiel ohne args\n",
    "    return a+b+c+d+f\n",
    "\n",
    "def add_better(*args):\n",
    "    total = 0\n",
    "    for num in args:\n",
    "        total += num\n",
    "    \n",
    "    return total\n",
    "\n",
    "add_better()"
   ]
  },
  {
   "cell_type": "code",
   "execution_count": 6,
   "id": "8bec3cda",
   "metadata": {},
   "outputs": [
    {
     "name": "stdout",
     "output_type": "stream",
     "text": [
      "{'param': 42, 'str_': '*'}\n"
     ]
    }
   ],
   "source": [
    "def kwarg_function(**kwargs):\n",
    "    print(kwargs)\n",
    "    \n",
    "kwarg_function(param=42, str_='*')"
   ]
  },
  {
   "cell_type": "markdown",
   "id": "e620605c",
   "metadata": {},
   "source": [
    "## Reihenfolge von Argumenten"
   ]
  },
  {
   "cell_type": "markdown",
   "id": "9afa2871",
   "metadata": {},
   "source": [
    "Die Reihenfolge in der wir Argument übergeben spielt eine Rolle, hier wir von Python zwischen 'positional' und 'keyword arguments' unterschieden. Positional sind in dem Context einfach unsere normalen Argumente, die heißen so weil hier die Reihenfolge in der wir Argumente übergeben entscheidet welchem Parameter der Wert zugewiesen wird.\n",
    "\n",
    "Die Reihenfolge ist wie folgt:\n",
    "> Zuerst postional arguments, danach keyword arguments "
   ]
  },
  {
   "cell_type": "code",
   "execution_count": 8,
   "id": "36ab41ad",
   "metadata": {},
   "outputs": [
    {
     "ename": "SyntaxError",
     "evalue": "positional argument follows keyword argument (2181197162.py, line 9)",
     "output_type": "error",
     "traceback": [
      "\u001b[0;36m  Cell \u001b[0;32mIn[8], line 9\u001b[0;36m\u001b[0m\n\u001b[0;31m    function(a=1, b=2, 5, 3, 4, param=42) # dieser call wirft einen error\u001b[0m\n\u001b[0m                                        ^\u001b[0m\n\u001b[0;31mSyntaxError\u001b[0m\u001b[0;31m:\u001b[0m positional argument follows keyword argument\n"
     ]
    }
   ],
   "source": [
    "def function(a, b, *args, keyword=True, **kwargs):\n",
    "    print(a, b)\n",
    "    print(args)\n",
    "    print(keyword)\n",
    "    print(kwargs)\n",
    "    \n",
    "    \n",
    "function(1, 2, 5, 3, 4, param=42)\n",
    "function(a=1, b=2, 5, 3, 4, param=42) # dieser call wirft einen error\n"
   ]
  },
  {
   "cell_type": "markdown",
   "id": "b6729fea",
   "metadata": {},
   "source": [
    "## Unpacking von Args und Kwargs"
   ]
  },
  {
   "cell_type": "markdown",
   "id": "8da2f24f",
   "metadata": {},
   "source": [
    "Man kann Args und Kwargs auch variablen mit Datenstrukturen übergeben die sie dann entpacken sollen, so kann man geschickt schnell viele variablen übergeben."
   ]
  },
  {
   "cell_type": "code",
   "execution_count": 256,
   "id": "4daf3ef1",
   "metadata": {},
   "outputs": [
    {
     "data": {
      "text/plain": [
       "3901"
      ]
     },
     "execution_count": 256,
     "metadata": {},
     "output_type": "execute_result"
    }
   ],
   "source": [
    "import random\n",
    "\n",
    "# generieren von Listen mit 100 Zufallszahlen\n",
    "numbers = [random.randint(0,20) for i in range(100)] # das hier ist eine List Comprehension, eine \"elegante Art\" wie man mit einer For-Schleife eine Liste erstellt\n",
    "numbers2 = [random.randint(20,40) for i in range(100)]\n",
    "\n",
    "# addieren aller elemente miteinander\n",
    "def add(*numbers):\n",
    "    '''\n",
    "    addiert alle Elemente zusammen\n",
    "    '''\n",
    "    \n",
    "    total = 0\n",
    "    for i in numbers:\n",
    "        total += i\n",
    "               \n",
    "    return total\n",
    " \n",
    "    \n",
    "add(*numbers,*numbers2)\n"
   ]
  },
  {
   "cell_type": "markdown",
   "id": "4b51223a",
   "metadata": {},
   "source": [
    "## Aufgabe_1"
   ]
  },
  {
   "cell_type": "markdown",
   "id": "4869d81e",
   "metadata": {},
   "source": [
    "Schreibe eine Funktion welche die höchste Ziffer einer dreistelligen Zahl ausgibt und schreibe den passenden Docstring."
   ]
  },
  {
   "cell_type": "code",
   "execution_count": 59,
   "id": "d4ab5f16",
   "metadata": {},
   "outputs": [],
   "source": [
    "# Programmiere hier"
   ]
  },
  {
   "cell_type": "markdown",
   "id": "1fc3f9d7",
   "metadata": {},
   "source": [
    "## Aufgabe_2"
   ]
  },
  {
   "cell_type": "markdown",
   "id": "094bb67b",
   "metadata": {},
   "source": [
    "Schreibe eine Funktion welche die geraden Zahlen einer Liste ausgiebt und schreibe den passenden Docstring."
   ]
  },
  {
   "cell_type": "code",
   "execution_count": 58,
   "id": "2c67178d",
   "metadata": {},
   "outputs": [],
   "source": [
    "# Programmiere hier    "
   ]
  },
  {
   "cell_type": "markdown",
   "id": "520db1e6",
   "metadata": {},
   "source": [
    "## Aufgabe_3"
   ]
  },
  {
   "cell_type": "markdown",
   "id": "cc627562",
   "metadata": {},
   "source": [
    "Schreibe eine Funktion die einen String umkehrt und ausgiebt und schreibe den passenden Docstring. \n",
    "<br>\n",
    "Sample String : \"1234abcd\"<br>\n",
    "Expected Output : \"dcba4321\""
   ]
  },
  {
   "cell_type": "code",
   "execution_count": 60,
   "id": "cf6b7c8d",
   "metadata": {},
   "outputs": [],
   "source": [
    "# Programmiere hier"
   ]
  },
  {
   "cell_type": "markdown",
   "id": "5e213331",
   "metadata": {},
   "source": [
    "## Aufgabe_4"
   ]
  },
  {
   "cell_type": "markdown",
   "id": "fd1a4d82",
   "metadata": {},
   "source": [
    "Schreibe eine Python Funktion die nur Strings entgegennimmt und die Anzahl der Groß- und Kleinbuchstaben ausgibt und schreibe den passenden Docstring. <br>\n",
    "Schaue dir hierzu die `isupper()` und `islower()` Funktionen an"
   ]
  },
  {
   "cell_type": "code",
   "execution_count": 61,
   "id": "31962fd7",
   "metadata": {},
   "outputs": [],
   "source": [
    "# Programmiere hier"
   ]
  },
  {
   "cell_type": "markdown",
   "id": "b8b2a403",
   "metadata": {},
   "source": [
    "## Aufgabe_5"
   ]
  },
  {
   "cell_type": "markdown",
   "id": "fe4da3f5",
   "metadata": {},
   "source": [
    "Schreibe eine Funktion die eine beliebige Anzahl an Werten miteinander multipliziert."
   ]
  },
  {
   "cell_type": "code",
   "execution_count": 254,
   "id": "c2491786",
   "metadata": {},
   "outputs": [],
   "source": [
    "# Programmiere hier"
   ]
  },
  {
   "cell_type": "markdown",
   "id": "52f7c777",
   "metadata": {},
   "source": [
    "## Aufgabe_6"
   ]
  },
  {
   "cell_type": "markdown",
   "id": "5c53da84",
   "metadata": {},
   "source": [
    "Schreibe eine Funktion die dir alle ungeraden Zahlen in einem variablen Bereich ausgibt."
   ]
  },
  {
   "cell_type": "code",
   "execution_count": 255,
   "id": "aeea42d5",
   "metadata": {},
   "outputs": [],
   "source": [
    "# Programmiere hier"
   ]
  }
 ],
 "metadata": {
  "kernelspec": {
   "display_name": "Python 3 (ipykernel)",
   "language": "python",
   "name": "python3"
  },
  "language_info": {
   "codemirror_mode": {
    "name": "ipython",
    "version": 3
   },
   "file_extension": ".py",
   "mimetype": "text/x-python",
   "name": "python",
   "nbconvert_exporter": "python",
   "pygments_lexer": "ipython3",
   "version": "3.9.13"
  },
  "vscode": {
   "interpreter": {
    "hash": "916dbcbb3f70747c44a77c7bcd40155683ae19c65e1c03b4aa3499c5328201f1"
   }
  }
 },
 "nbformat": 4,
 "nbformat_minor": 5
}
