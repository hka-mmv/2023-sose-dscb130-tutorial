{
 "cells": [
  {
   "cell_type": "markdown",
   "id": "d06e81f3",
   "metadata": {},
   "source": [
    "# Tutorium 3 - Kontrollstrukturen in Python"
   ]
  },
  {
   "cell_type": "markdown",
   "id": "711e4031",
   "metadata": {},
   "source": [
    "## if - else - elif"
   ]
  },
  {
   "cell_type": "markdown",
   "id": "50465954",
   "metadata": {},
   "source": [
    " <div class=\"alert alert-block alert-info\"> \n",
    "    <b>NOTE</b> \"Das if Statement wird verwendet wenn ein Teil des Codes nur unter einer bestimmten Bedingung ausgeführt werden soll. Python unterstützt hierzu die Vergleichsoperatoren der Mathematik\" </div>"
   ]
  },
  {
   "cell_type": "markdown",
   "id": "f57632e7",
   "metadata": {},
   "source": [
    "+ Equals: <span style=\"color:red\">a == b</span>\n",
    "+ Not Equals: <span style=\"color:red\">a != b</span>\n",
    "+ Less than: <span style=\"color:red\">a < b</span>\n",
    "+ Less than or equal to: <span style=\"color:red\">a <= b</span>\n",
    "+ Greater than: <span style=\"color:red\">a > b</span>\n",
    "+ Greater than or equal to:  <span style=\"color:red\">a >= b</span>\n",
    "\n"
   ]
  },
  {
   "cell_type": "code",
   "execution_count": null,
   "id": "c687481f",
   "metadata": {},
   "outputs": [],
   "source": [
    "# Beispiel - Prüft die Gleichheit zweier Variablen\n",
    "\n",
    "a = 33\n",
    "b = 24 \n",
    "\n",
    "if a == b:\n",
    "    print('a und b sind gleich')\n",
    "else: \n",
    "    print('a und b sind nicht gleich')"
   ]
  },
  {
   "cell_type": "markdown",
   "id": "6e60bdb9",
   "metadata": {},
   "source": [
    "### Aufgabe 1: Einstieg"
   ]
  },
  {
   "cell_type": "markdown",
   "id": "16796bdc",
   "metadata": {},
   "source": [
    "Definiere ein paar Variablen und wende die oben aufgeführten Vergleichsoperatoren auf diese an."
   ]
  },
  {
   "cell_type": "code",
   "execution_count": null,
   "id": "47d4b6d1",
   "metadata": {},
   "outputs": [],
   "source": [
    "l = 8\n",
    "m = 45\n",
    "n = 45 \n",
    "\n",
    "# m == n\n",
    "# m != n\n",
    "# m > l\n",
    "# l < n\n",
    "# m >= l\n",
    "# l <= n"
   ]
  },
  {
   "cell_type": "markdown",
   "id": "5cc8f7bf",
   "metadata": {},
   "source": [
    "### Aufgabe 2: if vs. elif"
   ]
  },
  {
   "cell_type": "markdown",
   "id": "7c16cce6",
   "metadata": {},
   "source": [
    "<div class=\"alert alert-block alert-info\"> \n",
    "    <b>NOTE</b> \"elif sagt in Python in etwa \"wenn die vorausgegangene Condition not true war dann prüfe diese Condition (in anderen Programmiersprachen häufig \"else if\"). \" </div>"
   ]
  },
  {
   "cell_type": "markdown",
   "id": "5967720e",
   "metadata": {},
   "source": [
    "Zeige an einem selbstgewählten Beispiel den Unterschied zwischen mehreren aufeinanderfolgenden `if-Statements` und der Verwendung von einem if Statement gefolgt von `elif-Statements`. "
   ]
  },
  {
   "cell_type": "code",
   "execution_count": 3,
   "id": "c19b60cc",
   "metadata": {
    "scrolled": true
   },
   "outputs": [
    {
     "name": "stdout",
     "output_type": "stream",
     "text": [
      "bar\n"
     ]
    }
   ],
   "source": [
    "x = 3\n",
    "y = 4\n",
    "z = 2\n",
    "\n",
    "if x > y:\n",
    "    print('foo')\n",
    "elif x < y:\n",
    "    print('bar')\n",
    "elif x > z:\n",
    "    print('char')\n",
    "\n",
    "if z != x:\n",
    "    print('ungleich')"
   ]
  },
  {
   "cell_type": "markdown",
   "id": "218274b0",
   "metadata": {},
   "source": [
    "### Aufgabe 3: Umwandlung von Zeichenketten"
   ]
  },
  {
   "cell_type": "markdown",
   "id": "3be0fef9",
   "metadata": {},
   "source": [
    "Schreiben Sie ein Python Programm, welches beliebige Eingabewerte(input) in Integer- und Float-Typen umwandelt. Schaue dir hierzu auch die `isnumeric()` methode an. Nutze hierzu die kennengelernten Kontrollstrukturen `if` und `else`"
   ]
  },
  {
   "cell_type": "code",
   "execution_count": null,
   "id": "bb6fccf3",
   "metadata": {},
   "outputs": [],
   "source": [
    "eingabe = input('gebe eine numerischen Zahl ein')\n",
    "\n",
    "if eingabe.isnumeric(): \n",
    "    print(int(eingabe), float(eingabe)) \n",
    "    \n",
    "else:\n",
    "    print('Eingabe ist nicht numerisch')"
   ]
  },
  {
   "cell_type": "markdown",
   "id": "1bdfb707",
   "metadata": {},
   "source": [
    "### Aufgabe 4 Umrechnung"
   ]
  },
  {
   "cell_type": "markdown",
   "id": "db47cdc5",
   "metadata": {},
   "source": [
    "Schreibe ein Programm, das Temperaturen in verschiedene Skalensystemen ineinander umwandelt. Das Programm soll zu Beginn eine Auswahl mit den verschiedenen Möglichkeiten anbieten nutze hierzu die `if`-`elif`-`else` Verzweigung"
   ]
  },
  {
   "cell_type": "markdown",
   "id": "5c54d6b0",
   "metadata": {},
   "source": [
    "<div class=\"alert alert-block alert-info\"> \n",
    "    <b>NOTE</b> \"Celsius = 5/9 * (Fahrenheit - 32)\" </div>"
   ]
  },
  {
   "cell_type": "code",
   "execution_count": 12,
   "id": "fec83f69",
   "metadata": {
    "scrolled": true
   },
   "outputs": [
    {
     "name": "stdout",
     "output_type": "stream",
     "text": [
      "(1) Umrechnung von Celsius nach Fahrenheit\n",
      "(2) Umrechnung von Fahrenheit nach Celsius\n",
      "Bitte wähle eine Art der Umrechnung: 2\n",
      "Temperatur in Fahrenheit: 45\n",
      "45.0F = 7.222222222222222°\n"
     ]
    }
   ],
   "source": [
    "print(\"(1) Umrechnung von Celsius nach Fahrenheit\")\n",
    "print(\"(2) Umrechnung von Fahrenheit nach Celsius\")\n",
    "\n",
    "wahl = input(\"Bitte wähle eine Art der Umrechnung: \")\n",
    "\n",
    "\n",
    "if wahl == \"1\":\n",
    "    celsius = float(input(\"Temperatur in Celsius: \"))\n",
    "    fahrenheit = 32.0 + 1.8*celsius\n",
    "    print(celsius, \"° = \", fahrenheit, \"F\", sep = \"\")    \n",
    "    \n",
    "        \n",
    "elif wahl == \"2\":\n",
    "    fahrenheit = float(input(\"Temperatur in Fahrenheit: \"))    \n",
    "    celsius = 5.0*(fahrenheit - 32.0)/9.0\n",
    "    print(fahrenheit, \"F = \", celsius, \"°\", sep = \"\")   \n",
    "    "
   ]
  },
  {
   "cell_type": "markdown",
   "id": "d892a5a3",
   "metadata": {},
   "source": [
    "## NOT - OR - AND - IN"
   ]
  },
  {
   "cell_type": "markdown",
   "id": "34264951",
   "metadata": {},
   "source": [
    "<div class=\"alert alert-block alert-info\"> \n",
    "    <b>NOTE</b> \"Logische Operatoren werden genutzt um Conditional Statements zu kombinieren\" </div>"
   ]
  },
  {
   "cell_type": "markdown",
   "id": "eab52ad3",
   "metadata": {},
   "source": [
    "| Operator     | Description                                | Example               | \n",
    "|:--------------|:--------------------------------------------|-----------------------:|\n",
    "|and           |`True` wenn beide Statements true           |x < 5 `and` x < 10     |\n",
    "|or            |`True` wenn eines der beiden Statements true|x < 5 `or` x < 4       |\n",
    "|not           |`False` wenn beide Statements true          |not(x < 5 `and` x < 10)|\n",
    "|in            |`True` wenn ein definierter Wert in geprüfter Sequenz liegt         |x `in` y|\n",
    "|not in        |`True` wenn ein definierter Wert nicht in geprüfter Sequenz liegt   |x `in` y|"
   ]
  },
  {
   "cell_type": "markdown",
   "id": "5a6ec1e9",
   "metadata": {},
   "source": [
    "<table>\n",
    "<tr><th> AND </th><th> OR </th><th> NOT </th></tr>\n",
    "<tr><td>\n",
    "\n",
    "|A|B|A and B|\n",
    "|--|--|:--:|\n",
    "|T|T|T|\n",
    "|T|F|F|\n",
    "|F|T|F|\n",
    "|F|F|F|\n",
    "\n",
    "</td><td>\n",
    "\n",
    "|A|B|A or B|\n",
    "|--|--|:--:|\n",
    "|T|T|T|\n",
    "|T|F|T|\n",
    "|F|T|T|\n",
    "|F|F|F|\n",
    "    \n",
    "</td><td>\n",
    "\n",
    "|A|A'|\n",
    "|-|-|\n",
    "|T|F|\n",
    "|F|T|\n",
    "\n",
    "</td></tr> </table>\n"
   ]
  },
  {
   "cell_type": "markdown",
   "id": "ee16918c",
   "metadata": {},
   "source": [
    "### Aufgabe 5: Wetterempfehlung"
   ]
  },
  {
   "cell_type": "markdown",
   "id": "908aa3c1",
   "metadata": {},
   "source": [
    "Schreibe ein Programm welches nach der aktuellen Temperatur fragt und abhängig davon ausgibt, ob das Wetter gut oder schlecht ist. \n",
    "Wenn die eingegebene Temperatur nicht niedriger als 10 Grad und nicht höher als 30 Grad ist, dann ist das Wetter gut. Wenn die Temperatur aber außerhalb des Intervalls liegt, ist das Wetter schlecht. "
   ]
  },
  {
   "cell_type": "code",
   "execution_count": 18,
   "id": "86a9c6ad",
   "metadata": {},
   "outputs": [
    {
     "name": "stdout",
     "output_type": "stream",
     "text": [
      "gebe eine Temperatur ein5\n",
      "Wetter nicht gut\n"
     ]
    }
   ],
   "source": [
    "temp = float(input('gebe eine Temperatur ein'))\n",
    "\n",
    "if temp >= 10 and temp <= 30:\n",
    "    print('wetter gut')\n",
    "    \n",
    "elif temp < 10 or temp >30:\n",
    "    print('Wetter nicht gut')"
   ]
  },
  {
   "cell_type": "markdown",
   "id": "41ae8057",
   "metadata": {},
   "source": [
    "# for - while - break - continue"
   ]
  },
  {
   "cell_type": "markdown",
   "id": "ecc9fcba",
   "metadata": {},
   "source": [
    "## for\n",
    "https://pythonbuch.com/kontrollstrukturen.html#die-for-schleife"
   ]
  },
  {
   "cell_type": "code",
   "execution_count": null,
   "id": "4ba5dd94",
   "metadata": {},
   "outputs": [],
   "source": [
    "for zahl in [4,5,7,11,21]:\n",
    "    summe = zahl + 2\n",
    "    print(\"Wenn ich zu\", zahl, \"zwei addiere, erhalte ich\", summe)\n",
    "print(\"Ich bin fertig!\")\n"
   ]
  },
  {
   "cell_type": "markdown",
   "id": "bc4597c9",
   "metadata": {},
   "source": [
    "Die Fakultät (manchmal, besonders in Österreich, auch Faktorielle genannt) ist in der Mathematik eine Funktion, die einer natürlichen Zahl das Produkt aller natürlichen Zahlen (ohne Null) kleiner und gleich dieser Zahl zuordnet. <a href=\"https://de.wikipedia.org/wiki/Fakult%C3%A4t_(Mathematik)\"> Qulle </a> <br>\n",
    "\n",
    "### Aufgabe 6:\n",
    "\n",
    "Er rechne die 5. Fakultät\n"
   ]
  },
  {
   "cell_type": "code",
   "execution_count": null,
   "id": "3bd9bd2d",
   "metadata": {},
   "outputs": [],
   "source": [
    "a = input('zahl')\n",
    "for i in range(zahl):\n",
    "    print(zahl)\n",
    "    a - 1"
   ]
  },
  {
   "cell_type": "markdown",
   "id": "cf226d5e",
   "metadata": {},
   "source": [
    "### While\n",
    "https://pythonbuch.com/kontrollstrukturen.html#die-while-schleife"
   ]
  },
  {
   "cell_type": "code",
   "execution_count": 14,
   "id": "f5119430",
   "metadata": {},
   "outputs": [
    {
     "name": "stdout",
     "output_type": "stream",
     "text": [
      "Vielen Dank!\n"
     ]
    }
   ],
   "source": [
    "antwort = input('Beantworte die Frage mit Ja oder Nein (J/N): ')\n",
    "\n",
    "while antwort not in ['j', 'J', 'n', 'N']:\n",
    "    print('Eingabe ungültig!')\n",
    "    antwort = input('Beantworte die Frage mit Ja oder Nein (J/N): ')\n",
    "\n",
    "print('Vielen Dank!')\n"
   ]
  },
  {
   "cell_type": "markdown",
   "id": "c632143f",
   "metadata": {},
   "source": [
    "### Aufgabe 7:\n",
    "Herr Spar legt sich jedes Jahr einen festen Betrag (z.B. 800.00 Fr.) auf sein Konto, welches beispielsweise 2.5 Zins trägt. Er tut dies so lange, bis er einen bestimmten Betrag überschreitet. Dieser Betrag ist auch einzugeben, z.B. 5000.00. Schreibe dazu ein Programm."
   ]
  },
  {
   "cell_type": "code",
   "execution_count": null,
   "id": "dc2eafd1",
   "metadata": {},
   "outputs": [],
   "source": [
    "konto = 800\n",
    "\n",
    "while konto < 5000:\n",
    "    konto * 1.025"
   ]
  },
  {
   "cell_type": "markdown",
   "id": "3b781fdc",
   "metadata": {},
   "source": [
    "### break\n",
    "-> Bricht die Schleife ab\n",
    "## continue\n",
    "-> Springt zur nächsten Schleifen iteration"
   ]
  },
  {
   "cell_type": "markdown",
   "id": "33084a45",
   "metadata": {},
   "source": [
    "\n",
    "# Fizz-Buzz-Test\n",
    "\n",
    "### Aufgabe 8\n",
    "\n",
    "Schreibe ein Programm, das die Zahlen von 1 bis 100 durchläuft:\n",
    "\n",
    "* ist die Zahl durch 3 teilbar, gibt das Programm *\"Fizz\"* aus\n",
    "* ist die Zahl durch 5 teilbar, gibt das Programm *\"Buzz\"* aus\n",
    "* ist die Zahl durch 3 und 5 teilbar, gibt das Programm *\"FizzBuzz\"* aus\n",
    "* andernfalls wird die Zahl ausgegeben\n",
    "\n"
   ]
  },
  {
   "cell_type": "markdown",
   "id": "3c5420c3",
   "metadata": {},
   "source": [
    "Nutze den gegeben code und break und continue."
   ]
  },
  {
   "cell_type": "code",
   "execution_count": null,
   "id": "e5a0500e",
   "metadata": {},
   "outputs": [],
   "source": [
    "eingabe = 0\n",
    "\n",
    "while True: #while True ist prinzipiell schlechter Style\n",
    "    print(eingabe)\n",
    "    if eingabe % 3 == 0:\n",
    "        print('fizz')\n",
    "        \n",
    "    \n",
    "    eingabe += 1 \n",
    "    if zahl == 100:\n",
    "        break"
   ]
  },
  {
   "cell_type": "markdown",
   "id": "b0e6aca7",
   "metadata": {},
   "source": [
    "### Augabe 9"
   ]
  },
  {
   "cell_type": "markdown",
   "id": "d39fa07b",
   "metadata": {},
   "source": [
    "Schreibe ein Programm, welches alle Primzahlen zwischen 1 und einer vom Benutzer gewählten oberen Grenze ausgibt.\n",
    "\n",
    "Zusatzaufgabe: Versuche im Internet herauszufinden, wie man dieses Problem möglichst effizient (d.h. so, dass es wenig Zeit braucht) löst und schreibe dein Programm um, damit es schneller wird.\n"
   ]
  },
  {
   "cell_type": "code",
   "execution_count": 32,
   "id": "f1aae494",
   "metadata": {},
   "outputs": [
    {
     "data": {
      "text/plain": [
       "0"
      ]
     },
     "execution_count": 32,
     "metadata": {},
     "output_type": "execute_result"
    }
   ],
   "source": [
    "z = 5\n",
    "\n",
    "5%5"
   ]
  },
  {
   "cell_type": "code",
   "execution_count": null,
   "id": "030134aa",
   "metadata": {},
   "outputs": [],
   "source": []
  }
 ],
 "metadata": {
  "kernelspec": {
   "display_name": "Python 3 (ipykernel)",
   "language": "python",
   "name": "python3"
  },
  "language_info": {
   "codemirror_mode": {
    "name": "ipython",
    "version": 3
   },
   "file_extension": ".py",
   "mimetype": "text/x-python",
   "name": "python",
   "nbconvert_exporter": "python",
   "pygments_lexer": "ipython3",
   "version": "3.11.2"
  },
  "vscode": {
   "interpreter": {
    "hash": "0adcc2737ebf6a4a119f135174df96668767fca1ef1112612db5ecadf2b6d608"
   }
  }
 },
 "nbformat": 4,
 "nbformat_minor": 5
}
